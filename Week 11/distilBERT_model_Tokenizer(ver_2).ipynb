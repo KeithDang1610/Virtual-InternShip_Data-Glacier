{
 "cells": [
  {
   "cell_type": "code",
   "execution_count": 1,
   "metadata": {
    "_cell_guid": "b1076dfc-b9ad-4769-8c92-a6c4dae69d19",
    "_uuid": "8f2839f25d086af736a60e9eeb907d3b93b6e0e5",
    "execution": {
     "iopub.execute_input": "2025-01-02T07:24:07.630524Z",
     "iopub.status.busy": "2025-01-02T07:24:07.630259Z",
     "iopub.status.idle": "2025-01-02T07:24:07.975918Z",
     "shell.execute_reply": "2025-01-02T07:24:07.974890Z",
     "shell.execute_reply.started": "2025-01-02T07:24:07.630502Z"
    },
    "trusted": true
   },
   "outputs": [
    {
     "name": "stdout",
     "output_type": "stream",
     "text": [
      "/kaggle/input/twitter-hate-speech/train_E6oV3lV.csv\n",
      "/kaggle/input/twitter-hate-speech/test_tweets_anuFYb8.csv\n"
     ]
    }
   ],
   "source": [
    "# This Python 3 environment comes with many helpful analytics libraries installed\n",
    "# It is defined by the kaggle/python Docker image: https://github.com/kaggle/docker-python\n",
    "# For example, here's several helpful packages to load\n",
    "\n",
    "import numpy as np # linear algebra\n",
    "import pandas as pd # data processing, CSV file I/O (e.g. pd.read_csv)\n",
    "\n",
    "# Input data files are available in the read-only \"../input/\" directory\n",
    "# For example, running this (by clicking run or pressing Shift+Enter) will list all files under the input directory\n",
    "\n",
    "import os\n",
    "for dirname, _, filenames in os.walk('/kaggle/input'):\n",
    "    for filename in filenames:\n",
    "        print(os.path.join(dirname, filename))\n",
    "\n",
    "# You can write up to 20GB to the current directory (/kaggle/working/) that gets preserved as output when you create a version using \"Save & Run All\" \n",
    "# You can also write temporary files to /kaggle/temp/, but they won't be saved outside of the current session"
   ]
  },
  {
   "cell_type": "code",
   "execution_count": 2,
   "metadata": {
    "execution": {
     "iopub.execute_input": "2025-01-02T07:24:07.977838Z",
     "iopub.status.busy": "2025-01-02T07:24:07.977398Z",
     "iopub.status.idle": "2025-01-02T07:24:07.982322Z",
     "shell.execute_reply": "2025-01-02T07:24:07.981324Z",
     "shell.execute_reply.started": "2025-01-02T07:24:07.977806Z"
    },
    "trusted": true
   },
   "outputs": [],
   "source": [
    "import pandas as pd\n",
    "pd.set_option('display.width', None)  # Auto-adjust width\n",
    "pd.set_option('display.max_colwidth', None)  # No limit on column width"
   ]
  },
  {
   "cell_type": "code",
   "execution_count": 3,
   "metadata": {
    "execution": {
     "iopub.execute_input": "2025-01-02T07:24:07.984206Z",
     "iopub.status.busy": "2025-01-02T07:24:07.983888Z",
     "iopub.status.idle": "2025-01-02T07:24:08.112260Z",
     "shell.execute_reply": "2025-01-02T07:24:08.111247Z",
     "shell.execute_reply.started": "2025-01-02T07:24:07.984173Z"
    },
    "trusted": true
   },
   "outputs": [
    {
     "data": {
      "text/html": [
       "<div>\n",
       "<style scoped>\n",
       "    .dataframe tbody tr th:only-of-type {\n",
       "        vertical-align: middle;\n",
       "    }\n",
       "\n",
       "    .dataframe tbody tr th {\n",
       "        vertical-align: top;\n",
       "    }\n",
       "\n",
       "    .dataframe thead th {\n",
       "        text-align: right;\n",
       "    }\n",
       "</style>\n",
       "<table border=\"1\" class=\"dataframe\">\n",
       "  <thead>\n",
       "    <tr style=\"text-align: right;\">\n",
       "      <th></th>\n",
       "      <th>id</th>\n",
       "      <th>label</th>\n",
       "      <th>tweet</th>\n",
       "    </tr>\n",
       "  </thead>\n",
       "  <tbody>\n",
       "    <tr>\n",
       "      <th>0</th>\n",
       "      <td>1</td>\n",
       "      <td>0</td>\n",
       "      <td>@user when a father is dysfunctional and is so selfish he drags his kids into his dysfunction.   #run</td>\n",
       "    </tr>\n",
       "    <tr>\n",
       "      <th>1</th>\n",
       "      <td>2</td>\n",
       "      <td>0</td>\n",
       "      <td>@user @user thanks for #lyft credit i can't use cause they don't offer wheelchair vans in pdx.    #disapointed #getthanked</td>\n",
       "    </tr>\n",
       "    <tr>\n",
       "      <th>2</th>\n",
       "      <td>3</td>\n",
       "      <td>0</td>\n",
       "      <td>bihday your majesty</td>\n",
       "    </tr>\n",
       "    <tr>\n",
       "      <th>3</th>\n",
       "      <td>4</td>\n",
       "      <td>0</td>\n",
       "      <td>#model   i love u take with u all the time in urð±!!! ððððð¦ð¦ð¦</td>\n",
       "    </tr>\n",
       "    <tr>\n",
       "      <th>4</th>\n",
       "      <td>5</td>\n",
       "      <td>0</td>\n",
       "      <td>factsguide: society now    #motivation</td>\n",
       "    </tr>\n",
       "    <tr>\n",
       "      <th>5</th>\n",
       "      <td>6</td>\n",
       "      <td>0</td>\n",
       "      <td>[2/2] huge fan fare and big talking before they leave. chaos and pay disputes when they get there. #allshowandnogo</td>\n",
       "    </tr>\n",
       "    <tr>\n",
       "      <th>6</th>\n",
       "      <td>7</td>\n",
       "      <td>0</td>\n",
       "      <td>@user camping tomorrow @user @user @user @user @user @user @user dannyâ¦</td>\n",
       "    </tr>\n",
       "    <tr>\n",
       "      <th>7</th>\n",
       "      <td>8</td>\n",
       "      <td>0</td>\n",
       "      <td>the next school year is the year for exams.ð¯ can't think about that ð­ #school #exams   #hate #imagine #actorslife #revolutionschool #girl</td>\n",
       "    </tr>\n",
       "    <tr>\n",
       "      <th>8</th>\n",
       "      <td>9</td>\n",
       "      <td>0</td>\n",
       "      <td>we won!!! love the land!!! #allin #cavs #champions #cleveland #clevelandcavaliers  â¦</td>\n",
       "    </tr>\n",
       "    <tr>\n",
       "      <th>9</th>\n",
       "      <td>10</td>\n",
       "      <td>0</td>\n",
       "      <td>@user @user welcome here !  i'm   it's so #gr8 !</td>\n",
       "    </tr>\n",
       "    <tr>\n",
       "      <th>10</th>\n",
       "      <td>11</td>\n",
       "      <td>0</td>\n",
       "      <td>â #ireland consumer price index (mom) climbed from previous 0.2% to 0.5% in may   #blog #silver #gold #forex</td>\n",
       "    </tr>\n",
       "    <tr>\n",
       "      <th>11</th>\n",
       "      <td>12</td>\n",
       "      <td>0</td>\n",
       "      <td>we are so selfish. #orlando #standwithorlando #pulseshooting #orlandoshooting #biggerproblems #selfish #heabreaking   #values #love #</td>\n",
       "    </tr>\n",
       "    <tr>\n",
       "      <th>12</th>\n",
       "      <td>13</td>\n",
       "      <td>0</td>\n",
       "      <td>i get to see my daddy today!!   #80days #gettingfed</td>\n",
       "    </tr>\n",
       "    <tr>\n",
       "      <th>13</th>\n",
       "      <td>14</td>\n",
       "      <td>1</td>\n",
       "      <td>@user #cnn calls #michigan middle school 'build the wall' chant '' #tcot</td>\n",
       "    </tr>\n",
       "    <tr>\n",
       "      <th>14</th>\n",
       "      <td>15</td>\n",
       "      <td>1</td>\n",
       "      <td>no comment!  in #australia   #opkillingbay #seashepherd #helpcovedolphins #thecove  #helpcovedolphins</td>\n",
       "    </tr>\n",
       "    <tr>\n",
       "      <th>15</th>\n",
       "      <td>16</td>\n",
       "      <td>0</td>\n",
       "      <td>ouch...junior is angryð#got7 #junior #yugyoem   #omg</td>\n",
       "    </tr>\n",
       "    <tr>\n",
       "      <th>16</th>\n",
       "      <td>17</td>\n",
       "      <td>0</td>\n",
       "      <td>i am thankful for having a paner. #thankful #positive</td>\n",
       "    </tr>\n",
       "    <tr>\n",
       "      <th>17</th>\n",
       "      <td>18</td>\n",
       "      <td>1</td>\n",
       "      <td>retweet if you agree!</td>\n",
       "    </tr>\n",
       "    <tr>\n",
       "      <th>18</th>\n",
       "      <td>19</td>\n",
       "      <td>0</td>\n",
       "      <td>its #friday! ð smiles all around via ig user: @user #cookies make people</td>\n",
       "    </tr>\n",
       "    <tr>\n",
       "      <th>19</th>\n",
       "      <td>20</td>\n",
       "      <td>0</td>\n",
       "      <td>as we all know, essential oils are not made of chemicals.</td>\n",
       "    </tr>\n",
       "  </tbody>\n",
       "</table>\n",
       "</div>"
      ],
      "text/plain": [
       "    id  label  \\\n",
       "0    1      0   \n",
       "1    2      0   \n",
       "2    3      0   \n",
       "3    4      0   \n",
       "4    5      0   \n",
       "5    6      0   \n",
       "6    7      0   \n",
       "7    8      0   \n",
       "8    9      0   \n",
       "9   10      0   \n",
       "10  11      0   \n",
       "11  12      0   \n",
       "12  13      0   \n",
       "13  14      1   \n",
       "14  15      1   \n",
       "15  16      0   \n",
       "16  17      0   \n",
       "17  18      1   \n",
       "18  19      0   \n",
       "19  20      0   \n",
       "\n",
       "                                                                                                                                              tweet  \n",
       "0                                             @user when a father is dysfunctional and is so selfish he drags his kids into his dysfunction.   #run  \n",
       "1                        @user @user thanks for #lyft credit i can't use cause they don't offer wheelchair vans in pdx.    #disapointed #getthanked  \n",
       "2                                                                                                                               bihday your majesty  \n",
       "3                                                            #model   i love u take with u all the time in urð±!!! ðððð\n",
       "ð¦ð¦ð¦    \n",
       "4                                                                                                            factsguide: society now    #motivation  \n",
       "5                              [2/2] huge fan fare and big talking before they leave. chaos and pay disputes when they get there. #allshowandnogo    \n",
       "6                                                                         @user camping tomorrow @user @user @user @user @user @user @user dannyâ¦  \n",
       "7   the next school year is the year for exams.ð¯ can't think about that ð­ #school #exams   #hate #imagine #actorslife #revolutionschool #girl  \n",
       "8                                                           we won!!! love the land!!! #allin #cavs #champions #cleveland #clevelandcavaliers  â¦   \n",
       "9                                                                                                 @user @user welcome here !  i'm   it's so #gr8 !   \n",
       "10                                   â #ireland consumer price index (mom) climbed from previous 0.2% to 0.5% in may   #blog #silver #gold #forex  \n",
       "11            we are so selfish. #orlando #standwithorlando #pulseshooting #orlandoshooting #biggerproblems #selfish #heabreaking   #values #love #  \n",
       "12                                                                                              i get to see my daddy today!!   #80days #gettingfed  \n",
       "13                                                                       @user #cnn calls #michigan middle school 'build the wall' chant '' #tcot    \n",
       "14                                            no comment!  in #australia   #opkillingbay #seashepherd #helpcovedolphins #thecove  #helpcovedolphins  \n",
       "15                                                                                         ouch...junior is angryð#got7 #junior #yugyoem   #omg   \n",
       "16                                                                                       i am thankful for having a paner. #thankful #positive       \n",
       "17                                                                                                                           retweet if you agree!   \n",
       "18                                                                   its #friday! ð smiles all around via ig user: @user #cookies make people     \n",
       "19                                                                                       as we all know, essential oils are not made of chemicals.   "
      ]
     },
     "execution_count": 3,
     "metadata": {},
     "output_type": "execute_result"
    }
   ],
   "source": [
    "df_train = pd.read_csv(\"/kaggle/input/twitter-hate-speech/train_E6oV3lV.csv\", header=0)\n",
    "df_train.head(20)"
   ]
  },
  {
   "cell_type": "code",
   "execution_count": 4,
   "metadata": {
    "execution": {
     "iopub.execute_input": "2025-01-02T07:24:08.114281Z",
     "iopub.status.busy": "2025-01-02T07:24:08.113936Z",
     "iopub.status.idle": "2025-01-02T07:24:08.125993Z",
     "shell.execute_reply": "2025-01-02T07:24:08.124824Z",
     "shell.execute_reply.started": "2025-01-02T07:24:08.114249Z"
    },
    "trusted": true
   },
   "outputs": [
    {
     "data": {
      "text/plain": [
       "'  bihday your majesty'"
      ]
     },
     "execution_count": 4,
     "metadata": {},
     "output_type": "execute_result"
    }
   ],
   "source": [
    "df_train[df_train[\"label\"] == 0][\"tweet\"].iloc[2]"
   ]
  },
  {
   "cell_type": "code",
   "execution_count": 5,
   "metadata": {
    "execution": {
     "iopub.execute_input": "2025-01-02T07:24:08.127454Z",
     "iopub.status.busy": "2025-01-02T07:24:08.127090Z",
     "iopub.status.idle": "2025-01-02T07:24:08.139091Z",
     "shell.execute_reply": "2025-01-02T07:24:08.138190Z",
     "shell.execute_reply.started": "2025-01-02T07:24:08.127428Z"
    },
    "trusted": true
   },
   "outputs": [
    {
     "data": {
      "text/plain": [
       "(31962, 3)"
      ]
     },
     "execution_count": 5,
     "metadata": {},
     "output_type": "execute_result"
    }
   ],
   "source": [
    "df_train.shape"
   ]
  },
  {
   "cell_type": "code",
   "execution_count": 6,
   "metadata": {
    "execution": {
     "iopub.execute_input": "2025-01-02T07:24:08.140546Z",
     "iopub.status.busy": "2025-01-02T07:24:08.140245Z",
     "iopub.status.idle": "2025-01-02T07:24:08.161964Z",
     "shell.execute_reply": "2025-01-02T07:24:08.160957Z",
     "shell.execute_reply.started": "2025-01-02T07:24:08.140521Z"
    },
    "trusted": true
   },
   "outputs": [
    {
     "data": {
      "text/plain": [
       "id       29720\n",
       "label    29720\n",
       "tweet    29720\n",
       "dtype: int64"
      ]
     },
     "execution_count": 6,
     "metadata": {},
     "output_type": "execute_result"
    }
   ],
   "source": [
    "df_train[df_train[\"label\"] == 0].count()\n"
   ]
  },
  {
   "cell_type": "code",
   "execution_count": 7,
   "metadata": {
    "execution": {
     "iopub.execute_input": "2025-01-02T07:24:08.163341Z",
     "iopub.status.busy": "2025-01-02T07:24:08.163035Z",
     "iopub.status.idle": "2025-01-02T07:24:08.170958Z",
     "shell.execute_reply": "2025-01-02T07:24:08.169939Z",
     "shell.execute_reply.started": "2025-01-02T07:24:08.163320Z"
    },
    "trusted": true
   },
   "outputs": [
    {
     "data": {
      "text/plain": [
       "29720"
      ]
     },
     "execution_count": 7,
     "metadata": {},
     "output_type": "execute_result"
    }
   ],
   "source": [
    "#df.query('label == 0').count()\n",
    "len(df_train[df_train[\"label\"] == 0])"
   ]
  },
  {
   "cell_type": "code",
   "execution_count": 8,
   "metadata": {
    "execution": {
     "iopub.execute_input": "2025-01-02T07:24:08.174697Z",
     "iopub.status.busy": "2025-01-02T07:24:08.174481Z",
     "iopub.status.idle": "2025-01-02T07:24:08.182210Z",
     "shell.execute_reply": "2025-01-02T07:24:08.181231Z",
     "shell.execute_reply.started": "2025-01-02T07:24:08.174678Z"
    },
    "trusted": true
   },
   "outputs": [
    {
     "data": {
      "text/plain": [
       "2242"
      ]
     },
     "execution_count": 8,
     "metadata": {},
     "output_type": "execute_result"
    }
   ],
   "source": [
    "len(df_train[df_train[\"label\"] == 1])"
   ]
  },
  {
   "cell_type": "code",
   "execution_count": 9,
   "metadata": {
    "execution": {
     "iopub.execute_input": "2025-01-02T07:24:08.184637Z",
     "iopub.status.busy": "2025-01-02T07:24:08.184339Z",
     "iopub.status.idle": "2025-01-02T07:24:08.250630Z",
     "shell.execute_reply": "2025-01-02T07:24:08.249676Z",
     "shell.execute_reply.started": "2025-01-02T07:24:08.184612Z"
    },
    "trusted": true
   },
   "outputs": [],
   "source": [
    "df_test = pd.read_csv(\"/kaggle/input/twitter-hate-speech/test_tweets_anuFYb8.csv\")"
   ]
  },
  {
   "cell_type": "code",
   "execution_count": 10,
   "metadata": {
    "execution": {
     "iopub.execute_input": "2025-01-02T07:24:08.251976Z",
     "iopub.status.busy": "2025-01-02T07:24:08.251645Z",
     "iopub.status.idle": "2025-01-02T07:24:08.257780Z",
     "shell.execute_reply": "2025-01-02T07:24:08.256834Z",
     "shell.execute_reply.started": "2025-01-02T07:24:08.251942Z"
    },
    "trusted": true
   },
   "outputs": [
    {
     "data": {
      "text/plain": [
       "(17197, 2)"
      ]
     },
     "execution_count": 10,
     "metadata": {},
     "output_type": "execute_result"
    }
   ],
   "source": [
    "df_test.shape"
   ]
  },
  {
   "cell_type": "code",
   "execution_count": 11,
   "metadata": {
    "execution": {
     "iopub.execute_input": "2025-01-02T07:24:08.259081Z",
     "iopub.status.busy": "2025-01-02T07:24:08.258733Z",
     "iopub.status.idle": "2025-01-02T07:24:08.275890Z",
     "shell.execute_reply": "2025-01-02T07:24:08.274993Z",
     "shell.execute_reply.started": "2025-01-02T07:24:08.259050Z"
    },
    "trusted": true
   },
   "outputs": [
    {
     "data": {
      "text/html": [
       "<div>\n",
       "<style scoped>\n",
       "    .dataframe tbody tr th:only-of-type {\n",
       "        vertical-align: middle;\n",
       "    }\n",
       "\n",
       "    .dataframe tbody tr th {\n",
       "        vertical-align: top;\n",
       "    }\n",
       "\n",
       "    .dataframe thead th {\n",
       "        text-align: right;\n",
       "    }\n",
       "</style>\n",
       "<table border=\"1\" class=\"dataframe\">\n",
       "  <thead>\n",
       "    <tr style=\"text-align: right;\">\n",
       "      <th></th>\n",
       "      <th>id</th>\n",
       "      <th>tweet</th>\n",
       "    </tr>\n",
       "  </thead>\n",
       "  <tbody>\n",
       "    <tr>\n",
       "      <th>0</th>\n",
       "      <td>31963</td>\n",
       "      <td>#studiolife #aislife #requires #passion #dedication #willpower   to find #newmaterialsâ¦</td>\n",
       "    </tr>\n",
       "    <tr>\n",
       "      <th>1</th>\n",
       "      <td>31964</td>\n",
       "      <td>@user #white #supremacists want everyone to see the new â  #birdsâ #movie â and hereâs why</td>\n",
       "    </tr>\n",
       "    <tr>\n",
       "      <th>2</th>\n",
       "      <td>31965</td>\n",
       "      <td>safe ways to heal your #acne!!    #altwaystoheal #healthy   #healing!!</td>\n",
       "    </tr>\n",
       "    <tr>\n",
       "      <th>3</th>\n",
       "      <td>31966</td>\n",
       "      <td>is the hp and the cursed child book up for reservations already? if yes, where? if no, when? ððð   #harrypotter #pottermore #favorite</td>\n",
       "    </tr>\n",
       "    <tr>\n",
       "      <th>4</th>\n",
       "      <td>31967</td>\n",
       "      <td>3rd #bihday to my amazing, hilarious #nephew eli ahmir! uncle dave loves you and missesâ¦</td>\n",
       "    </tr>\n",
       "  </tbody>\n",
       "</table>\n",
       "</div>"
      ],
      "text/plain": [
       "      id  \\\n",
       "0  31963   \n",
       "1  31964   \n",
       "2  31965   \n",
       "3  31966   \n",
       "4  31967   \n",
       "\n",
       "                                                                                                                                            tweet  \n",
       "0                                                      #studiolife #aislife #requires #passion #dedication #willpower   to find #newmaterialsâ¦   \n",
       "1                                            @user #white #supremacists want everyone to see the new â  #birdsâ #movie â and hereâs why    \n",
       "2                                                                         safe ways to heal your #acne!!    #altwaystoheal #healthy   #healing!!   \n",
       "3  is the hp and the cursed child book up for reservations already? if yes, where? if no, when? ððð   #harrypotter #pottermore #favorite  \n",
       "4                                                     3rd #bihday to my amazing, hilarious #nephew eli ahmir! uncle dave loves you and missesâ¦   "
      ]
     },
     "execution_count": 11,
     "metadata": {},
     "output_type": "execute_result"
    }
   ],
   "source": [
    "df_test.head()"
   ]
  },
  {
   "cell_type": "code",
   "execution_count": 12,
   "metadata": {
    "execution": {
     "iopub.execute_input": "2025-01-02T07:24:08.277202Z",
     "iopub.status.busy": "2025-01-02T07:24:08.276893Z",
     "iopub.status.idle": "2025-01-02T07:24:09.092554Z",
     "shell.execute_reply": "2025-01-02T07:24:09.091814Z",
     "shell.execute_reply.started": "2025-01-02T07:24:08.277168Z"
    },
    "trusted": true
   },
   "outputs": [],
   "source": [
    "from matplotlib import pyplot as plt\n",
    "import seaborn as sns"
   ]
  },
  {
   "cell_type": "code",
   "execution_count": 13,
   "metadata": {
    "execution": {
     "iopub.execute_input": "2025-01-02T07:24:09.093861Z",
     "iopub.status.busy": "2025-01-02T07:24:09.093423Z",
     "iopub.status.idle": "2025-01-02T07:24:09.330564Z",
     "shell.execute_reply": "2025-01-02T07:24:09.329540Z",
     "shell.execute_reply.started": "2025-01-02T07:24:09.093834Z"
    },
    "trusted": true
   },
   "outputs": [
    {
     "data": {
      "image/png": "[encoded data removed]",
      "text/plain": [
       "<Figure size 600x600 with 1 Axes>"
      ]
     },
     "metadata": {},
     "output_type": "display_data"
    }
   ],
   "source": [
    "plt.figure(figsize=(6,6))\n",
    "ax = sns.countplot(data=df_train, x=\"label\", palette='viridis')\n",
    "for p in ax.patches:\n",
    "    ax.annotate(f'{p.get_height()}', \n",
    "                (p.get_x() + p.get_width() / 2., p.get_height()), \n",
    "                ha='center', va='center', \n",
    "                fontsize=12, color='black', \n",
    "                xytext=(0, 5),  # Adjust text position (optional)\n",
    "                textcoords='offset points')\n",
    "\n",
    "# Show the plot\n",
    "plt.show()"
   ]
  },
  {
   "cell_type": "code",
   "execution_count": 14,
   "metadata": {
    "execution": {
     "iopub.execute_input": "2025-01-02T07:24:09.331879Z",
     "iopub.status.busy": "2025-01-02T07:24:09.331555Z",
     "iopub.status.idle": "2025-01-02T07:24:09.348568Z",
     "shell.execute_reply": "2025-01-02T07:24:09.347835Z",
     "shell.execute_reply.started": "2025-01-02T07:24:09.331843Z"
    },
    "trusted": true
   },
   "outputs": [
    {
     "data": {
      "text/html": [
       "<div>\n",
       "<style scoped>\n",
       "    .dataframe tbody tr th:only-of-type {\n",
       "        vertical-align: middle;\n",
       "    }\n",
       "\n",
       "    .dataframe tbody tr th {\n",
       "        vertical-align: top;\n",
       "    }\n",
       "\n",
       "    .dataframe thead th {\n",
       "        text-align: right;\n",
       "    }\n",
       "</style>\n",
       "<table border=\"1\" class=\"dataframe\">\n",
       "  <thead>\n",
       "    <tr style=\"text-align: right;\">\n",
       "      <th></th>\n",
       "      <th>id</th>\n",
       "      <th>label</th>\n",
       "    </tr>\n",
       "  </thead>\n",
       "  <tbody>\n",
       "    <tr>\n",
       "      <th>count</th>\n",
       "      <td>31962.000000</td>\n",
       "      <td>31962.000000</td>\n",
       "    </tr>\n",
       "    <tr>\n",
       "      <th>mean</th>\n",
       "      <td>15981.500000</td>\n",
       "      <td>0.070146</td>\n",
       "    </tr>\n",
       "    <tr>\n",
       "      <th>std</th>\n",
       "      <td>9226.778988</td>\n",
       "      <td>0.255397</td>\n",
       "    </tr>\n",
       "    <tr>\n",
       "      <th>min</th>\n",
       "      <td>1.000000</td>\n",
       "      <td>0.000000</td>\n",
       "    </tr>\n",
       "    <tr>\n",
       "      <th>25%</th>\n",
       "      <td>7991.250000</td>\n",
       "      <td>0.000000</td>\n",
       "    </tr>\n",
       "    <tr>\n",
       "      <th>50%</th>\n",
       "      <td>15981.500000</td>\n",
       "      <td>0.000000</td>\n",
       "    </tr>\n",
       "    <tr>\n",
       "      <th>75%</th>\n",
       "      <td>23971.750000</td>\n",
       "      <td>0.000000</td>\n",
       "    </tr>\n",
       "    <tr>\n",
       "      <th>max</th>\n",
       "      <td>31962.000000</td>\n",
       "      <td>1.000000</td>\n",
       "    </tr>\n",
       "  </tbody>\n",
       "</table>\n",
       "</div>"
      ],
      "text/plain": [
       "                 id         label\n",
       "count  31962.000000  31962.000000\n",
       "mean   15981.500000      0.070146\n",
       "std     9226.778988      0.255397\n",
       "min        1.000000      0.000000\n",
       "25%     7991.250000      0.000000\n",
       "50%    15981.500000      0.000000\n",
       "75%    23971.750000      0.000000\n",
       "max    31962.000000      1.000000"
      ]
     },
     "execution_count": 14,
     "metadata": {},
     "output_type": "execute_result"
    }
   ],
   "source": [
    "df_train.describe()"
   ]
  },
  {
   "cell_type": "code",
   "execution_count": 15,
   "metadata": {
    "execution": {
     "iopub.execute_input": "2025-01-02T07:24:09.349731Z",
     "iopub.status.busy": "2025-01-02T07:24:09.349427Z",
     "iopub.status.idle": "2025-01-02T07:24:09.378852Z",
     "shell.execute_reply": "2025-01-02T07:24:09.378172Z",
     "shell.execute_reply.started": "2025-01-02T07:24:09.349707Z"
    },
    "trusted": true
   },
   "outputs": [
    {
     "data": {
      "text/html": [
       "<div>\n",
       "<style scoped>\n",
       "    .dataframe tbody tr th:only-of-type {\n",
       "        vertical-align: middle;\n",
       "    }\n",
       "\n",
       "    .dataframe tbody tr th {\n",
       "        vertical-align: top;\n",
       "    }\n",
       "\n",
       "    .dataframe thead tr th {\n",
       "        text-align: left;\n",
       "    }\n",
       "\n",
       "    .dataframe thead tr:last-of-type th {\n",
       "        text-align: right;\n",
       "    }\n",
       "</style>\n",
       "<table border=\"1\" class=\"dataframe\">\n",
       "  <thead>\n",
       "    <tr>\n",
       "      <th></th>\n",
       "      <th colspan=\"8\" halign=\"left\">id</th>\n",
       "    </tr>\n",
       "    <tr>\n",
       "      <th></th>\n",
       "      <th>count</th>\n",
       "      <th>mean</th>\n",
       "      <th>std</th>\n",
       "      <th>min</th>\n",
       "      <th>25%</th>\n",
       "      <th>50%</th>\n",
       "      <th>75%</th>\n",
       "      <th>max</th>\n",
       "    </tr>\n",
       "    <tr>\n",
       "      <th>label</th>\n",
       "      <th></th>\n",
       "      <th></th>\n",
       "      <th></th>\n",
       "      <th></th>\n",
       "      <th></th>\n",
       "      <th></th>\n",
       "      <th></th>\n",
       "      <th></th>\n",
       "    </tr>\n",
       "  </thead>\n",
       "  <tbody>\n",
       "    <tr>\n",
       "      <th>0</th>\n",
       "      <td>29720.0</td>\n",
       "      <td>15974.454441</td>\n",
       "      <td>9223.783469</td>\n",
       "      <td>1.0</td>\n",
       "      <td>7981.75</td>\n",
       "      <td>15971.5</td>\n",
       "      <td>23965.25</td>\n",
       "      <td>31962.0</td>\n",
       "    </tr>\n",
       "    <tr>\n",
       "      <th>1</th>\n",
       "      <td>2242.0</td>\n",
       "      <td>16074.896075</td>\n",
       "      <td>9267.955758</td>\n",
       "      <td>14.0</td>\n",
       "      <td>8075.25</td>\n",
       "      <td>16095.0</td>\n",
       "      <td>24022.00</td>\n",
       "      <td>31961.0</td>\n",
       "    </tr>\n",
       "  </tbody>\n",
       "</table>\n",
       "</div>"
      ],
      "text/plain": [
       "            id                                                               \\\n",
       "         count          mean          std   min      25%      50%       75%   \n",
       "label                                                                         \n",
       "0      29720.0  15974.454441  9223.783469   1.0  7981.75  15971.5  23965.25   \n",
       "1       2242.0  16074.896075  9267.955758  14.0  8075.25  16095.0  24022.00   \n",
       "\n",
       "                \n",
       "           max  \n",
       "label           \n",
       "0      31962.0  \n",
       "1      31961.0  "
      ]
     },
     "execution_count": 15,
     "metadata": {},
     "output_type": "execute_result"
    }
   ],
   "source": [
    "df_train.groupby('label').describe()"
   ]
  },
  {
   "cell_type": "code",
   "execution_count": 16,
   "metadata": {
    "execution": {
     "iopub.execute_input": "2025-01-02T07:24:09.379710Z",
     "iopub.status.busy": "2025-01-02T07:24:09.379519Z",
     "iopub.status.idle": "2025-01-02T07:24:09.388460Z",
     "shell.execute_reply": "2025-01-02T07:24:09.387468Z",
     "shell.execute_reply.started": "2025-01-02T07:24:09.379690Z"
    },
    "trusted": true
   },
   "outputs": [
    {
     "data": {
      "text/html": [
       "<div>\n",
       "<style scoped>\n",
       "    .dataframe tbody tr th:only-of-type {\n",
       "        vertical-align: middle;\n",
       "    }\n",
       "\n",
       "    .dataframe tbody tr th {\n",
       "        vertical-align: top;\n",
       "    }\n",
       "\n",
       "    .dataframe thead th {\n",
       "        text-align: right;\n",
       "    }\n",
       "</style>\n",
       "<table border=\"1\" class=\"dataframe\">\n",
       "  <thead>\n",
       "    <tr style=\"text-align: right;\">\n",
       "      <th></th>\n",
       "      <th>id</th>\n",
       "      <th>label</th>\n",
       "      <th>tweet</th>\n",
       "    </tr>\n",
       "  </thead>\n",
       "  <tbody>\n",
       "    <tr>\n",
       "      <th>0</th>\n",
       "      <td>1</td>\n",
       "      <td>0</td>\n",
       "      <td>@user when a father is dysfunctional and is so selfish he drags his kids into his dysfunction.   #run</td>\n",
       "    </tr>\n",
       "    <tr>\n",
       "      <th>1</th>\n",
       "      <td>2</td>\n",
       "      <td>0</td>\n",
       "      <td>@user @user thanks for #lyft credit i can't use cause they don't offer wheelchair vans in pdx.    #disapointed #getthanked</td>\n",
       "    </tr>\n",
       "    <tr>\n",
       "      <th>2</th>\n",
       "      <td>3</td>\n",
       "      <td>0</td>\n",
       "      <td>bihday your majesty</td>\n",
       "    </tr>\n",
       "    <tr>\n",
       "      <th>3</th>\n",
       "      <td>4</td>\n",
       "      <td>0</td>\n",
       "      <td>#model   i love u take with u all the time in urð±!!! ððððð¦ð¦ð¦</td>\n",
       "    </tr>\n",
       "    <tr>\n",
       "      <th>4</th>\n",
       "      <td>5</td>\n",
       "      <td>0</td>\n",
       "      <td>factsguide: society now    #motivation</td>\n",
       "    </tr>\n",
       "    <tr>\n",
       "      <th>5</th>\n",
       "      <td>6</td>\n",
       "      <td>0</td>\n",
       "      <td>[2/2] huge fan fare and big talking before they leave. chaos and pay disputes when they get there. #allshowandnogo</td>\n",
       "    </tr>\n",
       "    <tr>\n",
       "      <th>6</th>\n",
       "      <td>7</td>\n",
       "      <td>0</td>\n",
       "      <td>@user camping tomorrow @user @user @user @user @user @user @user dannyâ¦</td>\n",
       "    </tr>\n",
       "    <tr>\n",
       "      <th>7</th>\n",
       "      <td>8</td>\n",
       "      <td>0</td>\n",
       "      <td>the next school year is the year for exams.ð¯ can't think about that ð­ #school #exams   #hate #imagine #actorslife #revolutionschool #girl</td>\n",
       "    </tr>\n",
       "    <tr>\n",
       "      <th>8</th>\n",
       "      <td>9</td>\n",
       "      <td>0</td>\n",
       "      <td>we won!!! love the land!!! #allin #cavs #champions #cleveland #clevelandcavaliers  â¦</td>\n",
       "    </tr>\n",
       "    <tr>\n",
       "      <th>9</th>\n",
       "      <td>10</td>\n",
       "      <td>0</td>\n",
       "      <td>@user @user welcome here !  i'm   it's so #gr8 !</td>\n",
       "    </tr>\n",
       "    <tr>\n",
       "      <th>10</th>\n",
       "      <td>11</td>\n",
       "      <td>0</td>\n",
       "      <td>â #ireland consumer price index (mom) climbed from previous 0.2% to 0.5% in may   #blog #silver #gold #forex</td>\n",
       "    </tr>\n",
       "    <tr>\n",
       "      <th>11</th>\n",
       "      <td>12</td>\n",
       "      <td>0</td>\n",
       "      <td>we are so selfish. #orlando #standwithorlando #pulseshooting #orlandoshooting #biggerproblems #selfish #heabreaking   #values #love #</td>\n",
       "    </tr>\n",
       "    <tr>\n",
       "      <th>12</th>\n",
       "      <td>13</td>\n",
       "      <td>0</td>\n",
       "      <td>i get to see my daddy today!!   #80days #gettingfed</td>\n",
       "    </tr>\n",
       "    <tr>\n",
       "      <th>13</th>\n",
       "      <td>14</td>\n",
       "      <td>1</td>\n",
       "      <td>@user #cnn calls #michigan middle school 'build the wall' chant '' #tcot</td>\n",
       "    </tr>\n",
       "    <tr>\n",
       "      <th>14</th>\n",
       "      <td>15</td>\n",
       "      <td>1</td>\n",
       "      <td>no comment!  in #australia   #opkillingbay #seashepherd #helpcovedolphins #thecove  #helpcovedolphins</td>\n",
       "    </tr>\n",
       "    <tr>\n",
       "      <th>15</th>\n",
       "      <td>16</td>\n",
       "      <td>0</td>\n",
       "      <td>ouch...junior is angryð#got7 #junior #yugyoem   #omg</td>\n",
       "    </tr>\n",
       "    <tr>\n",
       "      <th>16</th>\n",
       "      <td>17</td>\n",
       "      <td>0</td>\n",
       "      <td>i am thankful for having a paner. #thankful #positive</td>\n",
       "    </tr>\n",
       "    <tr>\n",
       "      <th>17</th>\n",
       "      <td>18</td>\n",
       "      <td>1</td>\n",
       "      <td>retweet if you agree!</td>\n",
       "    </tr>\n",
       "    <tr>\n",
       "      <th>18</th>\n",
       "      <td>19</td>\n",
       "      <td>0</td>\n",
       "      <td>its #friday! ð smiles all around via ig user: @user #cookies make people</td>\n",
       "    </tr>\n",
       "    <tr>\n",
       "      <th>19</th>\n",
       "      <td>20</td>\n",
       "      <td>0</td>\n",
       "      <td>as we all know, essential oils are not made of chemicals.</td>\n",
       "    </tr>\n",
       "  </tbody>\n",
       "</table>\n",
       "</div>"
      ],
      "text/plain": [
       "    id  label  \\\n",
       "0    1      0   \n",
       "1    2      0   \n",
       "2    3      0   \n",
       "3    4      0   \n",
       "4    5      0   \n",
       "5    6      0   \n",
       "6    7      0   \n",
       "7    8      0   \n",
       "8    9      0   \n",
       "9   10      0   \n",
       "10  11      0   \n",
       "11  12      0   \n",
       "12  13      0   \n",
       "13  14      1   \n",
       "14  15      1   \n",
       "15  16      0   \n",
       "16  17      0   \n",
       "17  18      1   \n",
       "18  19      0   \n",
       "19  20      0   \n",
       "\n",
       "                                                                                                                                              tweet  \n",
       "0                                             @user when a father is dysfunctional and is so selfish he drags his kids into his dysfunction.   #run  \n",
       "1                        @user @user thanks for #lyft credit i can't use cause they don't offer wheelchair vans in pdx.    #disapointed #getthanked  \n",
       "2                                                                                                                               bihday your majesty  \n",
       "3                                                            #model   i love u take with u all the time in urð±!!! ðððð\n",
       "ð¦ð¦ð¦    \n",
       "4                                                                                                            factsguide: society now    #motivation  \n",
       "5                              [2/2] huge fan fare and big talking before they leave. chaos and pay disputes when they get there. #allshowandnogo    \n",
       "6                                                                         @user camping tomorrow @user @user @user @user @user @user @user dannyâ¦  \n",
       "7   the next school year is the year for exams.ð¯ can't think about that ð­ #school #exams   #hate #imagine #actorslife #revolutionschool #girl  \n",
       "8                                                           we won!!! love the land!!! #allin #cavs #champions #cleveland #clevelandcavaliers  â¦   \n",
       "9                                                                                                 @user @user welcome here !  i'm   it's so #gr8 !   \n",
       "10                                   â #ireland consumer price index (mom) climbed from previous 0.2% to 0.5% in may   #blog #silver #gold #forex  \n",
       "11            we are so selfish. #orlando #standwithorlando #pulseshooting #orlandoshooting #biggerproblems #selfish #heabreaking   #values #love #  \n",
       "12                                                                                              i get to see my daddy today!!   #80days #gettingfed  \n",
       "13                                                                       @user #cnn calls #michigan middle school 'build the wall' chant '' #tcot    \n",
       "14                                            no comment!  in #australia   #opkillingbay #seashepherd #helpcovedolphins #thecove  #helpcovedolphins  \n",
       "15                                                                                         ouch...junior is angryð#got7 #junior #yugyoem   #omg   \n",
       "16                                                                                       i am thankful for having a paner. #thankful #positive       \n",
       "17                                                                                                                           retweet if you agree!   \n",
       "18                                                                   its #friday! ð smiles all around via ig user: @user #cookies make people     \n",
       "19                                                                                       as we all know, essential oils are not made of chemicals.   "
      ]
     },
     "execution_count": 16,
     "metadata": {},
     "output_type": "execute_result"
    }
   ],
   "source": [
    "df_train.head(20)"
   ]
  },
  {
   "cell_type": "markdown",
   "metadata": {},
   "source": [
    "## Cleanse Data"
   ]
  },
  {
   "cell_type": "code",
   "execution_count": 17,
   "metadata": {
    "execution": {
     "iopub.execute_input": "2025-01-02T07:24:09.389955Z",
     "iopub.status.busy": "2025-01-02T07:24:09.389606Z",
     "iopub.status.idle": "2025-01-02T07:24:09.399444Z",
     "shell.execute_reply": "2025-01-02T07:24:09.398647Z",
     "shell.execute_reply.started": "2025-01-02T07:24:09.389932Z"
    },
    "trusted": true
   },
   "outputs": [],
   "source": [
    "import re"
   ]
  },
  {
   "cell_type": "code",
   "execution_count": 18,
   "metadata": {
    "execution": {
     "iopub.execute_input": "2025-01-02T07:24:09.400630Z",
     "iopub.status.busy": "2025-01-02T07:24:09.400302Z",
     "iopub.status.idle": "2025-01-02T07:24:09.412748Z",
     "shell.execute_reply": "2025-01-02T07:24:09.411982Z",
     "shell.execute_reply.started": "2025-01-02T07:24:09.400600Z"
    },
    "trusted": true
   },
   "outputs": [],
   "source": [
    "def clean_text(text):\n",
    "    text = re.sub(r\"http\\S+\", \"\", text) # remove URLs\n",
    "    text = re.sub(r\"@\\w+\", \"\", text) #remove mentions\n",
    "    text = re.sub(r\"#\\w+\", \"\", text) #remove hashtags\n",
    "    #text = re.sub(r\"[^\\w\\s]\", \"\", text) #remove special characters\n",
    "    return text.lower().strip()"
   ]
  },
  {
   "cell_type": "code",
   "execution_count": 19,
   "metadata": {
    "execution": {
     "iopub.execute_input": "2025-01-02T07:24:09.413669Z",
     "iopub.status.busy": "2025-01-02T07:24:09.413417Z",
     "iopub.status.idle": "2025-01-02T07:24:09.425141Z",
     "shell.execute_reply": "2025-01-02T07:24:09.424249Z",
     "shell.execute_reply.started": "2025-01-02T07:24:09.413645Z"
    },
    "trusted": true
   },
   "outputs": [
    {
     "data": {
      "text/plain": [
       "'#model   i love u take with u all the time in urð\\x9f\\x93±!!! ð\\x9f\\x98\\x99ð\\x9f\\x98\\x8eð\\x9f\\x91\\x84ð\\x9f\\x91\\x85ð\\x9f\\x92¦ð\\x9f\\x92¦ð\\x9f\\x92¦  '"
      ]
     },
     "execution_count": 19,
     "metadata": {},
     "output_type": "execute_result"
    }
   ],
   "source": [
    "df_train['tweet'][3]"
   ]
  },
  {
   "cell_type": "code",
   "execution_count": 20,
   "metadata": {
    "execution": {
     "iopub.execute_input": "2025-01-02T07:24:09.426426Z",
     "iopub.status.busy": "2025-01-02T07:24:09.426110Z",
     "iopub.status.idle": "2025-01-02T07:24:09.565445Z",
     "shell.execute_reply": "2025-01-02T07:24:09.564518Z",
     "shell.execute_reply.started": "2025-01-02T07:24:09.426402Z"
    },
    "trusted": true
   },
   "outputs": [],
   "source": [
    "df_train['cleaned_tweet']= df_train['tweet'].apply(clean_text)"
   ]
  },
  {
   "cell_type": "code",
   "execution_count": 21,
   "metadata": {
    "execution": {
     "iopub.execute_input": "2025-01-02T07:24:09.566738Z",
     "iopub.status.busy": "2025-01-02T07:24:09.566491Z",
     "iopub.status.idle": "2025-01-02T07:24:09.576656Z",
     "shell.execute_reply": "2025-01-02T07:24:09.575780Z",
     "shell.execute_reply.started": "2025-01-02T07:24:09.566713Z"
    },
    "trusted": true
   },
   "outputs": [
    {
     "data": {
      "text/html": [
       "<div>\n",
       "<style scoped>\n",
       "    .dataframe tbody tr th:only-of-type {\n",
       "        vertical-align: middle;\n",
       "    }\n",
       "\n",
       "    .dataframe tbody tr th {\n",
       "        vertical-align: top;\n",
       "    }\n",
       "\n",
       "    .dataframe thead th {\n",
       "        text-align: right;\n",
       "    }\n",
       "</style>\n",
       "<table border=\"1\" class=\"dataframe\">\n",
       "  <thead>\n",
       "    <tr style=\"text-align: right;\">\n",
       "      <th></th>\n",
       "      <th>id</th>\n",
       "      <th>label</th>\n",
       "      <th>tweet</th>\n",
       "      <th>cleaned_tweet</th>\n",
       "    </tr>\n",
       "  </thead>\n",
       "  <tbody>\n",
       "    <tr>\n",
       "      <th>0</th>\n",
       "      <td>1</td>\n",
       "      <td>0</td>\n",
       "      <td>@user when a father is dysfunctional and is so selfish he drags his kids into his dysfunction.   #run</td>\n",
       "      <td>when a father is dysfunctional and is so selfish he drags his kids into his dysfunction.</td>\n",
       "    </tr>\n",
       "    <tr>\n",
       "      <th>1</th>\n",
       "      <td>2</td>\n",
       "      <td>0</td>\n",
       "      <td>@user @user thanks for #lyft credit i can't use cause they don't offer wheelchair vans in pdx.    #disapointed #getthanked</td>\n",
       "      <td>thanks for  credit i can't use cause they don't offer wheelchair vans in pdx.</td>\n",
       "    </tr>\n",
       "    <tr>\n",
       "      <th>2</th>\n",
       "      <td>3</td>\n",
       "      <td>0</td>\n",
       "      <td>bihday your majesty</td>\n",
       "      <td>bihday your majesty</td>\n",
       "    </tr>\n",
       "    <tr>\n",
       "      <th>3</th>\n",
       "      <td>4</td>\n",
       "      <td>0</td>\n",
       "      <td>#model   i love u take with u all the time in urð±!!! ððððð¦ð¦ð¦</td>\n",
       "      <td>i love u take with u all the time in urð±!!! ððððð¦ð¦ð¦</td>\n",
       "    </tr>\n",
       "    <tr>\n",
       "      <th>4</th>\n",
       "      <td>5</td>\n",
       "      <td>0</td>\n",
       "      <td>factsguide: society now    #motivation</td>\n",
       "      <td>factsguide: society now</td>\n",
       "    </tr>\n",
       "    <tr>\n",
       "      <th>5</th>\n",
       "      <td>6</td>\n",
       "      <td>0</td>\n",
       "      <td>[2/2] huge fan fare and big talking before they leave. chaos and pay disputes when they get there. #allshowandnogo</td>\n",
       "      <td>[2/2] huge fan fare and big talking before they leave. chaos and pay disputes when they get there.</td>\n",
       "    </tr>\n",
       "    <tr>\n",
       "      <th>6</th>\n",
       "      <td>7</td>\n",
       "      <td>0</td>\n",
       "      <td>@user camping tomorrow @user @user @user @user @user @user @user dannyâ¦</td>\n",
       "      <td>camping tomorrow        dannyâ¦</td>\n",
       "    </tr>\n",
       "    <tr>\n",
       "      <th>7</th>\n",
       "      <td>8</td>\n",
       "      <td>0</td>\n",
       "      <td>the next school year is the year for exams.ð¯ can't think about that ð­ #school #exams   #hate #imagine #actorslife #revolutionschool #girl</td>\n",
       "      <td>the next school year is the year for exams.ð¯ can't think about that ð­</td>\n",
       "    </tr>\n",
       "    <tr>\n",
       "      <th>8</th>\n",
       "      <td>9</td>\n",
       "      <td>0</td>\n",
       "      <td>we won!!! love the land!!! #allin #cavs #champions #cleveland #clevelandcavaliers  â¦</td>\n",
       "      <td>we won!!! love the land!!!       â¦</td>\n",
       "    </tr>\n",
       "    <tr>\n",
       "      <th>9</th>\n",
       "      <td>10</td>\n",
       "      <td>0</td>\n",
       "      <td>@user @user welcome here !  i'm   it's so #gr8 !</td>\n",
       "      <td>welcome here !  i'm   it's so  !</td>\n",
       "    </tr>\n",
       "    <tr>\n",
       "      <th>10</th>\n",
       "      <td>11</td>\n",
       "      <td>0</td>\n",
       "      <td>â #ireland consumer price index (mom) climbed from previous 0.2% to 0.5% in may   #blog #silver #gold #forex</td>\n",
       "      <td>â  consumer price index (mom) climbed from previous 0.2% to 0.5% in may</td>\n",
       "    </tr>\n",
       "    <tr>\n",
       "      <th>11</th>\n",
       "      <td>12</td>\n",
       "      <td>0</td>\n",
       "      <td>we are so selfish. #orlando #standwithorlando #pulseshooting #orlandoshooting #biggerproblems #selfish #heabreaking   #values #love #</td>\n",
       "      <td>we are so selfish.            #</td>\n",
       "    </tr>\n",
       "    <tr>\n",
       "      <th>12</th>\n",
       "      <td>13</td>\n",
       "      <td>0</td>\n",
       "      <td>i get to see my daddy today!!   #80days #gettingfed</td>\n",
       "      <td>i get to see my daddy today!!</td>\n",
       "    </tr>\n",
       "    <tr>\n",
       "      <th>13</th>\n",
       "      <td>14</td>\n",
       "      <td>1</td>\n",
       "      <td>@user #cnn calls #michigan middle school 'build the wall' chant '' #tcot</td>\n",
       "      <td>calls  middle school 'build the wall' chant ''</td>\n",
       "    </tr>\n",
       "    <tr>\n",
       "      <th>14</th>\n",
       "      <td>15</td>\n",
       "      <td>1</td>\n",
       "      <td>no comment!  in #australia   #opkillingbay #seashepherd #helpcovedolphins #thecove  #helpcovedolphins</td>\n",
       "      <td>no comment!  in</td>\n",
       "    </tr>\n",
       "    <tr>\n",
       "      <th>15</th>\n",
       "      <td>16</td>\n",
       "      <td>0</td>\n",
       "      <td>ouch...junior is angryð#got7 #junior #yugyoem   #omg</td>\n",
       "      <td>ouch...junior is angryð</td>\n",
       "    </tr>\n",
       "    <tr>\n",
       "      <th>16</th>\n",
       "      <td>17</td>\n",
       "      <td>0</td>\n",
       "      <td>i am thankful for having a paner. #thankful #positive</td>\n",
       "      <td>i am thankful for having a paner.</td>\n",
       "    </tr>\n",
       "    <tr>\n",
       "      <th>17</th>\n",
       "      <td>18</td>\n",
       "      <td>1</td>\n",
       "      <td>retweet if you agree!</td>\n",
       "      <td>retweet if you agree!</td>\n",
       "    </tr>\n",
       "    <tr>\n",
       "      <th>18</th>\n",
       "      <td>19</td>\n",
       "      <td>0</td>\n",
       "      <td>its #friday! ð smiles all around via ig user: @user #cookies make people</td>\n",
       "      <td>its ! ð smiles all around via ig user:   make people</td>\n",
       "    </tr>\n",
       "    <tr>\n",
       "      <th>19</th>\n",
       "      <td>20</td>\n",
       "      <td>0</td>\n",
       "      <td>as we all know, essential oils are not made of chemicals.</td>\n",
       "      <td>as we all know, essential oils are not made of chemicals.</td>\n",
       "    </tr>\n",
       "  </tbody>\n",
       "</table>\n",
       "</div>"
      ],
      "text/plain": [
       "    id  label  \\\n",
       "0    1      0   \n",
       "1    2      0   \n",
       "2    3      0   \n",
       "3    4      0   \n",
       "4    5      0   \n",
       "5    6      0   \n",
       "6    7      0   \n",
       "7    8      0   \n",
       "8    9      0   \n",
       "9   10      0   \n",
       "10  11      0   \n",
       "11  12      0   \n",
       "12  13      0   \n",
       "13  14      1   \n",
       "14  15      1   \n",
       "15  16      0   \n",
       "16  17      0   \n",
       "17  18      1   \n",
       "18  19      0   \n",
       "19  20      0   \n",
       "\n",
       "                                                                                                                                              tweet  \\\n",
       "0                                             @user when a father is dysfunctional and is so selfish he drags his kids into his dysfunction.   #run   \n",
       "1                        @user @user thanks for #lyft credit i can't use cause they don't offer wheelchair vans in pdx.    #disapointed #getthanked   \n",
       "2                                                                                                                               bihday your majesty   \n",
       "3                                                            #model   i love u take with u all the time in urð±!!! ðððð\n",
       "ð¦ð¦ð¦     \n",
       "4                                                                                                            factsguide: society now    #motivation   \n",
       "5                              [2/2] huge fan fare and big talking before they leave. chaos and pay disputes when they get there. #allshowandnogo     \n",
       "6                                                                         @user camping tomorrow @user @user @user @user @user @user @user dannyâ¦   \n",
       "7   the next school year is the year for exams.ð¯ can't think about that ð­ #school #exams   #hate #imagine #actorslife #revolutionschool #girl   \n",
       "8                                                           we won!!! love the land!!! #allin #cavs #champions #cleveland #clevelandcavaliers  â¦    \n",
       "9                                                                                                 @user @user welcome here !  i'm   it's so #gr8 !    \n",
       "10                                   â #ireland consumer price index (mom) climbed from previous 0.2% to 0.5% in may   #blog #silver #gold #forex   \n",
       "11            we are so selfish. #orlando #standwithorlando #pulseshooting #orlandoshooting #biggerproblems #selfish #heabreaking   #values #love #   \n",
       "12                                                                                              i get to see my daddy today!!   #80days #gettingfed   \n",
       "13                                                                       @user #cnn calls #michigan middle school 'build the wall' chant '' #tcot     \n",
       "14                                            no comment!  in #australia   #opkillingbay #seashepherd #helpcovedolphins #thecove  #helpcovedolphins   \n",
       "15                                                                                         ouch...junior is angryð#got7 #junior #yugyoem   #omg    \n",
       "16                                                                                       i am thankful for having a paner. #thankful #positive        \n",
       "17                                                                                                                           retweet if you agree!    \n",
       "18                                                                   its #friday! ð smiles all around via ig user: @user #cookies make people      \n",
       "19                                                                                       as we all know, essential oils are not made of chemicals.    \n",
       "\n",
       "                                                                                         cleaned_tweet  \n",
       "0             when a father is dysfunctional and is so selfish he drags his kids into his dysfunction.  \n",
       "1                        thanks for  credit i can't use cause they don't offer wheelchair vans in pdx.  \n",
       "2                                                                                  bihday your majesty  \n",
       "3                          i love u take with u all the time in urð±!!! ðððð\n",
       "ð¦ð¦ð¦  \n",
       "4                                                                              factsguide: society now  \n",
       "5   [2/2] huge fan fare and big talking before they leave. chaos and pay disputes when they get there.  \n",
       "6                                                                     camping tomorrow        dannyâ¦  \n",
       "7                          the next school year is the year for exams.ð¯ can't think about that ð­  \n",
       "8                                                                 we won!!! love the land!!!       â¦  \n",
       "9                                                                     welcome here !  i'm   it's so  !  \n",
       "10                           â  consumer price index (mom) climbed from previous 0.2% to 0.5% in may  \n",
       "11                                                                     we are so selfish.            #  \n",
       "12                                                                       i get to see my daddy today!!  \n",
       "13                                                      calls  middle school 'build the wall' chant ''  \n",
       "14                                                                                     no comment!  in  \n",
       "15                                                                          ouch...junior is angryð  \n",
       "16                                                                   i am thankful for having a paner.  \n",
       "17                                                                               retweet if you agree!  \n",
       "18                                             its ! ð smiles all around via ig user:   make people  \n",
       "19                                           as we all know, essential oils are not made of chemicals.  "
      ]
     },
     "execution_count": 21,
     "metadata": {},
     "output_type": "execute_result"
    }
   ],
   "source": [
    "df_train.head(20)"
   ]
  },
  {
   "cell_type": "code",
   "execution_count": 22,
   "metadata": {
    "execution": {
     "iopub.execute_input": "2025-01-02T07:24:09.577961Z",
     "iopub.status.busy": "2025-01-02T07:24:09.577623Z",
     "iopub.status.idle": "2025-01-02T07:24:09.587672Z",
     "shell.execute_reply": "2025-01-02T07:24:09.586925Z",
     "shell.execute_reply.started": "2025-01-02T07:24:09.577938Z"
    },
    "trusted": true
   },
   "outputs": [],
   "source": [
    "def decode_text(text):\n",
    "    try:\n",
    "        #Handling the characters's error\n",
    "        return text.encode('latin1').decode('utf-8', errors='ignore')\n",
    "    except UnicodeDecodeError:\n",
    "        return text"
   ]
  },
  {
   "cell_type": "code",
   "execution_count": 23,
   "metadata": {
    "execution": {
     "iopub.execute_input": "2025-01-02T07:24:09.592191Z",
     "iopub.status.busy": "2025-01-02T07:24:09.591954Z",
     "iopub.status.idle": "2025-01-02T07:24:09.601380Z",
     "shell.execute_reply": "2025-01-02T07:24:09.600596Z",
     "shell.execute_reply.started": "2025-01-02T07:24:09.592171Z"
    },
    "trusted": true
   },
   "outputs": [],
   "source": [
    "def contains_invalid_encoding(text):\n",
    "    # Kiểm tra nếu text là chuỗi và tìm ký tự không hợp lệ\n",
    "    if isinstance(text, str):\n",
    "        # Regex tìm các ký tự không phải Unicode hợp lệ (biểu hiện của mã hóa sai)\n",
    "        return bool(re.search(r'[^\\x00-\\x7F]+', text))  # Tìm ký tự ngoài bảng mã ASCII chuẩn\n",
    "    return False  # Nếu không phải chuỗi, trả về False"
   ]
  },
  {
   "cell_type": "code",
   "execution_count": 24,
   "metadata": {
    "execution": {
     "iopub.execute_input": "2025-01-02T07:24:09.603436Z",
     "iopub.status.busy": "2025-01-02T07:24:09.603182Z",
     "iopub.status.idle": "2025-01-02T07:24:09.764258Z",
     "shell.execute_reply": "2025-01-02T07:24:09.763344Z",
     "shell.execute_reply.started": "2025-01-02T07:24:09.603415Z"
    },
    "trusted": true
   },
   "outputs": [
    {
     "name": "stdout",
     "output_type": "stream",
     "text": [
      "Những tweet chứa ký tự mã hóa sai (ngoài bảng ASCII):\n",
      "                                                                     cleaned_tweet\n",
      "3      i love u take with u all the time in urð±!!! ððððð¦ð¦ð¦\n",
      "6                                                 camping tomorrow        dannyâ¦\n",
      "7      the next school year is the year for exams.ð¯ can't think about that ð­\n",
      "8                                             we won!!! love the land!!!       â¦\n",
      "10       â  consumer price index (mom) climbed from previous 0.2% to 0.5% in may\n",
      "...                                                                            ...\n",
      "31939                                       whew  ð it's a productive and   !!!\n",
      "31942                                             this week is flying by    -   ¦\n",
      "31945                                                    feel like... ðð¶ð\n",
      "31955                                   less than 2 weeks ððð¼ð¹ððµ\n",
      "31957               ate  isz that youuu?ðððððððððâ¤ï¸\n",
      "\n",
      "[10751 rows x 1 columns]\n"
     ]
    }
   ],
   "source": [
    "# Đảm bảo cột 'tweet' là kiểu chuỗi trước khi áp dụng hàm kiểm tra\n",
    "df_train['cleaned_tweet'] = df_train['cleaned_tweet'].astype(str)\n",
    "\n",
    "# Tạo một cột mới để lưu tweet đã được mã hóa lại\n",
    "df_train['decoded_tweet'] = df_train['cleaned_tweet'].apply(lambda x: decode_text(x) if contains_invalid_encoding(x) else x)\n",
    "\n",
    "# Lọc ra những dòng chứa ký tự mã hóa sai (ngoài bảng ASCII)\n",
    "invalid_tweets = df_train[df_train['cleaned_tweet'].apply(contains_invalid_encoding)]\n",
    "\n",
    "# Kiểm tra các tweet đã được mã hóa lại\n",
    "invalid_tweets_after_decoding = df_train[df_train['cleaned_tweet'] != df_train['decoded_tweet']]\n",
    "\n",
    "# Hiển thị những dòng chứa ký tự mã hóa sai\n",
    "print(f\"Những tweet chứa ký tự mã hóa sai (ngoài bảng ASCII):\")\n",
    "print(invalid_tweets[['cleaned_tweet']])  # Hiển thị chỉ cột tweet"
   ]
  },
  {
   "cell_type": "code",
   "execution_count": 25,
   "metadata": {
    "execution": {
     "iopub.execute_input": "2025-01-02T07:24:09.765382Z",
     "iopub.status.busy": "2025-01-02T07:24:09.765127Z",
     "iopub.status.idle": "2025-01-02T07:24:09.773909Z",
     "shell.execute_reply": "2025-01-02T07:24:09.773116Z",
     "shell.execute_reply.started": "2025-01-02T07:24:09.765363Z"
    },
    "trusted": true
   },
   "outputs": [
    {
     "name": "stdout",
     "output_type": "stream",
     "text": [
      "Những tweet đã được mã hóa lại:\n",
      "                                                                     cleaned_tweet  \\\n",
      "3      i love u take with u all the time in urð±!!! ððððð¦ð¦ð¦   \n",
      "6                                                 camping tomorrow        dannyâ¦   \n",
      "7      the next school year is the year for exams.ð¯ can't think about that ð­   \n",
      "8                                             we won!!! love the land!!!       â¦   \n",
      "10       â  consumer price index (mom) climbed from previous 0.2% to 0.5% in may   \n",
      "...                                                                            ...   \n",
      "31939                                       whew  ð it's a productive and   !!!   \n",
      "31942                                             this week is flying by    -   ¦   \n",
      "31945                                                    feel like... ðð¶ð   \n",
      "31955                                   less than 2 weeks ððð¼ð¹ððµ   \n",
      "31957               ate  isz that youuu?ðððððððððâ¤ï¸   \n",
      "\n",
      "                                                                 decoded_tweet  \n",
      "3                          i love u take with u all the time in ur📱!!! 😙😎👄👅💦💦💦  \n",
      "6                                               camping tomorrow        danny…  \n",
      "7        the next school year is the year for exams.😯 can't think about that 😭  \n",
      "8                                           we won!!! love the land!!!       …  \n",
      "10     ↝  consumer price index (mom) climbed from previous 0.2% to 0.5% in may  \n",
      "...                                                                        ...  \n",
      "31939                                      whew  😅 it's a productive and   !!!  \n",
      "31942                                           this week is flying by    -     \n",
      "31945                                                         feel like... 😝🐶😎  \n",
      "31955                                                 less than 2 weeks 😅🙏🏼🍹😎🎵  \n",
      "31957                                          ate  isz that youuu?😍😍😍😍😍😍😍😍😍❤️  \n",
      "\n",
      "[10751 rows x 2 columns]\n"
     ]
    }
   ],
   "source": [
    "print(f\"Những tweet đã được mã hóa lại:\")\n",
    "print(invalid_tweets_after_decoding[['cleaned_tweet', 'decoded_tweet']])"
   ]
  },
  {
   "cell_type": "code",
   "execution_count": 26,
   "metadata": {
    "execution": {
     "iopub.execute_input": "2025-01-02T07:24:09.774930Z",
     "iopub.status.busy": "2025-01-02T07:24:09.774670Z",
     "iopub.status.idle": "2025-01-02T07:24:09.826111Z",
     "shell.execute_reply": "2025-01-02T07:24:09.825147Z",
     "shell.execute_reply.started": "2025-01-02T07:24:09.774908Z"
    },
    "trusted": true
   },
   "outputs": [],
   "source": [
    "repeated_char_train = []\n",
    "for i, tweet in enumerate(df_train['decoded_tweet']):\n",
    "  if re.match(r'\\w*(\\w)\\1+',tweet):\n",
    "    repeated_char_train.append(i)"
   ]
  },
  {
   "cell_type": "code",
   "execution_count": 27,
   "metadata": {
    "execution": {
     "iopub.execute_input": "2025-01-02T07:24:09.827279Z",
     "iopub.status.busy": "2025-01-02T07:24:09.827029Z",
     "iopub.status.idle": "2025-01-02T07:24:09.832344Z",
     "shell.execute_reply": "2025-01-02T07:24:09.831508Z",
     "shell.execute_reply.started": "2025-01-02T07:24:09.827258Z"
    },
    "trusted": true
   },
   "outputs": [
    {
     "data": {
      "text/plain": [
       "4583"
      ]
     },
     "execution_count": 27,
     "metadata": {},
     "output_type": "execute_result"
    }
   ],
   "source": [
    "len(repeated_char_train)"
   ]
  },
  {
   "cell_type": "code",
   "execution_count": 28,
   "metadata": {
    "execution": {
     "iopub.execute_input": "2025-01-02T07:24:09.833598Z",
     "iopub.status.busy": "2025-01-02T07:24:09.833267Z",
     "iopub.status.idle": "2025-01-02T07:24:09.845299Z",
     "shell.execute_reply": "2025-01-02T07:24:09.844518Z",
     "shell.execute_reply.started": "2025-01-02T07:24:09.833556Z"
    },
    "trusted": true
   },
   "outputs": [],
   "source": [
    "#Repeated char function \n",
    "def repeated_char(text):\n",
    "  text = re.sub(r'(\\w)\\1{2,}',r'\\1',text)\n",
    "  return text"
   ]
  },
  {
   "cell_type": "code",
   "execution_count": 29,
   "metadata": {
    "execution": {
     "iopub.execute_input": "2025-01-02T07:24:09.846548Z",
     "iopub.status.busy": "2025-01-02T07:24:09.846164Z",
     "iopub.status.idle": "2025-01-02T07:24:10.017243Z",
     "shell.execute_reply": "2025-01-02T07:24:10.016471Z",
     "shell.execute_reply.started": "2025-01-02T07:24:09.846517Z"
    },
    "trusted": true
   },
   "outputs": [],
   "source": [
    "df_train['clean_duplicate']=df_train['decoded_tweet'].apply(repeated_char)"
   ]
  },
  {
   "cell_type": "code",
   "execution_count": 30,
   "metadata": {
    "execution": {
     "iopub.execute_input": "2025-01-02T07:24:10.018326Z",
     "iopub.status.busy": "2025-01-02T07:24:10.018003Z",
     "iopub.status.idle": "2025-01-02T07:24:10.030557Z",
     "shell.execute_reply": "2025-01-02T07:24:10.029437Z",
     "shell.execute_reply.started": "2025-01-02T07:24:10.018295Z"
    },
    "trusted": true
   },
   "outputs": [
    {
     "data": {
      "text/html": [
       "<div>\n",
       "<style scoped>\n",
       "    .dataframe tbody tr th:only-of-type {\n",
       "        vertical-align: middle;\n",
       "    }\n",
       "\n",
       "    .dataframe tbody tr th {\n",
       "        vertical-align: top;\n",
       "    }\n",
       "\n",
       "    .dataframe thead th {\n",
       "        text-align: right;\n",
       "    }\n",
       "</style>\n",
       "<table border=\"1\" class=\"dataframe\">\n",
       "  <thead>\n",
       "    <tr style=\"text-align: right;\">\n",
       "      <th></th>\n",
       "      <th>id</th>\n",
       "      <th>label</th>\n",
       "      <th>tweet</th>\n",
       "      <th>cleaned_tweet</th>\n",
       "      <th>decoded_tweet</th>\n",
       "      <th>clean_duplicate</th>\n",
       "    </tr>\n",
       "  </thead>\n",
       "  <tbody>\n",
       "    <tr>\n",
       "      <th>0</th>\n",
       "      <td>1</td>\n",
       "      <td>0</td>\n",
       "      <td>@user when a father is dysfunctional and is so selfish he drags his kids into his dysfunction.   #run</td>\n",
       "      <td>when a father is dysfunctional and is so selfish he drags his kids into his dysfunction.</td>\n",
       "      <td>when a father is dysfunctional and is so selfish he drags his kids into his dysfunction.</td>\n",
       "      <td>when a father is dysfunctional and is so selfish he drags his kids into his dysfunction.</td>\n",
       "    </tr>\n",
       "    <tr>\n",
       "      <th>1</th>\n",
       "      <td>2</td>\n",
       "      <td>0</td>\n",
       "      <td>@user @user thanks for #lyft credit i can't use cause they don't offer wheelchair vans in pdx.    #disapointed #getthanked</td>\n",
       "      <td>thanks for  credit i can't use cause they don't offer wheelchair vans in pdx.</td>\n",
       "      <td>thanks for  credit i can't use cause they don't offer wheelchair vans in pdx.</td>\n",
       "      <td>thanks for  credit i can't use cause they don't offer wheelchair vans in pdx.</td>\n",
       "    </tr>\n",
       "    <tr>\n",
       "      <th>2</th>\n",
       "      <td>3</td>\n",
       "      <td>0</td>\n",
       "      <td>bihday your majesty</td>\n",
       "      <td>bihday your majesty</td>\n",
       "      <td>bihday your majesty</td>\n",
       "      <td>bihday your majesty</td>\n",
       "    </tr>\n",
       "    <tr>\n",
       "      <th>3</th>\n",
       "      <td>4</td>\n",
       "      <td>0</td>\n",
       "      <td>#model   i love u take with u all the time in urð±!!! ððððð¦ð¦ð¦</td>\n",
       "      <td>i love u take with u all the time in urð±!!! ððððð¦ð¦ð¦</td>\n",
       "      <td>i love u take with u all the time in ur📱!!! 😙😎👄👅💦💦💦</td>\n",
       "      <td>i love u take with u all the time in ur📱!!! 😙😎👄👅💦💦💦</td>\n",
       "    </tr>\n",
       "    <tr>\n",
       "      <th>4</th>\n",
       "      <td>5</td>\n",
       "      <td>0</td>\n",
       "      <td>factsguide: society now    #motivation</td>\n",
       "      <td>factsguide: society now</td>\n",
       "      <td>factsguide: society now</td>\n",
       "      <td>factsguide: society now</td>\n",
       "    </tr>\n",
       "    <tr>\n",
       "      <th>5</th>\n",
       "      <td>6</td>\n",
       "      <td>0</td>\n",
       "      <td>[2/2] huge fan fare and big talking before they leave. chaos and pay disputes when they get there. #allshowandnogo</td>\n",
       "      <td>[2/2] huge fan fare and big talking before they leave. chaos and pay disputes when they get there.</td>\n",
       "      <td>[2/2] huge fan fare and big talking before they leave. chaos and pay disputes when they get there.</td>\n",
       "      <td>[2/2] huge fan fare and big talking before they leave. chaos and pay disputes when they get there.</td>\n",
       "    </tr>\n",
       "    <tr>\n",
       "      <th>6</th>\n",
       "      <td>7</td>\n",
       "      <td>0</td>\n",
       "      <td>@user camping tomorrow @user @user @user @user @user @user @user dannyâ¦</td>\n",
       "      <td>camping tomorrow        dannyâ¦</td>\n",
       "      <td>camping tomorrow        danny…</td>\n",
       "      <td>camping tomorrow        danny…</td>\n",
       "    </tr>\n",
       "    <tr>\n",
       "      <th>7</th>\n",
       "      <td>8</td>\n",
       "      <td>0</td>\n",
       "      <td>the next school year is the year for exams.ð¯ can't think about that ð­ #school #exams   #hate #imagine #actorslife #revolutionschool #girl</td>\n",
       "      <td>the next school year is the year for exams.ð¯ can't think about that ð­</td>\n",
       "      <td>the next school year is the year for exams.😯 can't think about that 😭</td>\n",
       "      <td>the next school year is the year for exams.😯 can't think about that 😭</td>\n",
       "    </tr>\n",
       "    <tr>\n",
       "      <th>8</th>\n",
       "      <td>9</td>\n",
       "      <td>0</td>\n",
       "      <td>we won!!! love the land!!! #allin #cavs #champions #cleveland #clevelandcavaliers  â¦</td>\n",
       "      <td>we won!!! love the land!!!       â¦</td>\n",
       "      <td>we won!!! love the land!!!       …</td>\n",
       "      <td>we won!!! love the land!!!       …</td>\n",
       "    </tr>\n",
       "    <tr>\n",
       "      <th>9</th>\n",
       "      <td>10</td>\n",
       "      <td>0</td>\n",
       "      <td>@user @user welcome here !  i'm   it's so #gr8 !</td>\n",
       "      <td>welcome here !  i'm   it's so  !</td>\n",
       "      <td>welcome here !  i'm   it's so  !</td>\n",
       "      <td>welcome here !  i'm   it's so  !</td>\n",
       "    </tr>\n",
       "    <tr>\n",
       "      <th>10</th>\n",
       "      <td>11</td>\n",
       "      <td>0</td>\n",
       "      <td>â #ireland consumer price index (mom) climbed from previous 0.2% to 0.5% in may   #blog #silver #gold #forex</td>\n",
       "      <td>â  consumer price index (mom) climbed from previous 0.2% to 0.5% in may</td>\n",
       "      <td>↝  consumer price index (mom) climbed from previous 0.2% to 0.5% in may</td>\n",
       "      <td>↝  consumer price index (mom) climbed from previous 0.2% to 0.5% in may</td>\n",
       "    </tr>\n",
       "    <tr>\n",
       "      <th>11</th>\n",
       "      <td>12</td>\n",
       "      <td>0</td>\n",
       "      <td>we are so selfish. #orlando #standwithorlando #pulseshooting #orlandoshooting #biggerproblems #selfish #heabreaking   #values #love #</td>\n",
       "      <td>we are so selfish.            #</td>\n",
       "      <td>we are so selfish.            #</td>\n",
       "      <td>we are so selfish.            #</td>\n",
       "    </tr>\n",
       "    <tr>\n",
       "      <th>12</th>\n",
       "      <td>13</td>\n",
       "      <td>0</td>\n",
       "      <td>i get to see my daddy today!!   #80days #gettingfed</td>\n",
       "      <td>i get to see my daddy today!!</td>\n",
       "      <td>i get to see my daddy today!!</td>\n",
       "      <td>i get to see my daddy today!!</td>\n",
       "    </tr>\n",
       "    <tr>\n",
       "      <th>13</th>\n",
       "      <td>14</td>\n",
       "      <td>1</td>\n",
       "      <td>@user #cnn calls #michigan middle school 'build the wall' chant '' #tcot</td>\n",
       "      <td>calls  middle school 'build the wall' chant ''</td>\n",
       "      <td>calls  middle school 'build the wall' chant ''</td>\n",
       "      <td>calls  middle school 'build the wall' chant ''</td>\n",
       "    </tr>\n",
       "    <tr>\n",
       "      <th>14</th>\n",
       "      <td>15</td>\n",
       "      <td>1</td>\n",
       "      <td>no comment!  in #australia   #opkillingbay #seashepherd #helpcovedolphins #thecove  #helpcovedolphins</td>\n",
       "      <td>no comment!  in</td>\n",
       "      <td>no comment!  in</td>\n",
       "      <td>no comment!  in</td>\n",
       "    </tr>\n",
       "    <tr>\n",
       "      <th>15</th>\n",
       "      <td>16</td>\n",
       "      <td>0</td>\n",
       "      <td>ouch...junior is angryð#got7 #junior #yugyoem   #omg</td>\n",
       "      <td>ouch...junior is angryð</td>\n",
       "      <td>ouch...junior is angry😐</td>\n",
       "      <td>ouch...junior is angry😐</td>\n",
       "    </tr>\n",
       "    <tr>\n",
       "      <th>16</th>\n",
       "      <td>17</td>\n",
       "      <td>0</td>\n",
       "      <td>i am thankful for having a paner. #thankful #positive</td>\n",
       "      <td>i am thankful for having a paner.</td>\n",
       "      <td>i am thankful for having a paner.</td>\n",
       "      <td>i am thankful for having a paner.</td>\n",
       "    </tr>\n",
       "    <tr>\n",
       "      <th>17</th>\n",
       "      <td>18</td>\n",
       "      <td>1</td>\n",
       "      <td>retweet if you agree!</td>\n",
       "      <td>retweet if you agree!</td>\n",
       "      <td>retweet if you agree!</td>\n",
       "      <td>retweet if you agree!</td>\n",
       "    </tr>\n",
       "    <tr>\n",
       "      <th>18</th>\n",
       "      <td>19</td>\n",
       "      <td>0</td>\n",
       "      <td>its #friday! ð smiles all around via ig user: @user #cookies make people</td>\n",
       "      <td>its ! ð smiles all around via ig user:   make people</td>\n",
       "      <td>its ! 😀 smiles all around via ig user:   make people</td>\n",
       "      <td>its ! 😀 smiles all around via ig user:   make people</td>\n",
       "    </tr>\n",
       "    <tr>\n",
       "      <th>19</th>\n",
       "      <td>20</td>\n",
       "      <td>0</td>\n",
       "      <td>as we all know, essential oils are not made of chemicals.</td>\n",
       "      <td>as we all know, essential oils are not made of chemicals.</td>\n",
       "      <td>as we all know, essential oils are not made of chemicals.</td>\n",
       "      <td>as we all know, essential oils are not made of chemicals.</td>\n",
       "    </tr>\n",
       "  </tbody>\n",
       "</table>\n",
       "</div>"
      ],
      "text/plain": [
       "    id  label  \\\n",
       "0    1      0   \n",
       "1    2      0   \n",
       "2    3      0   \n",
       "3    4      0   \n",
       "4    5      0   \n",
       "5    6      0   \n",
       "6    7      0   \n",
       "7    8      0   \n",
       "8    9      0   \n",
       "9   10      0   \n",
       "10  11      0   \n",
       "11  12      0   \n",
       "12  13      0   \n",
       "13  14      1   \n",
       "14  15      1   \n",
       "15  16      0   \n",
       "16  17      0   \n",
       "17  18      1   \n",
       "18  19      0   \n",
       "19  20      0   \n",
       "\n",
       "                                                                                                                                              tweet  \\\n",
       "0                                             @user when a father is dysfunctional and is so selfish he drags his kids into his dysfunction.   #run   \n",
       "1                        @user @user thanks for #lyft credit i can't use cause they don't offer wheelchair vans in pdx.    #disapointed #getthanked   \n",
       "2                                                                                                                               bihday your majesty   \n",
       "3                                                            #model   i love u take with u all the time in urð±!!! ðððð\n",
       "ð¦ð¦ð¦     \n",
       "4                                                                                                            factsguide: society now    #motivation   \n",
       "5                              [2/2] huge fan fare and big talking before they leave. chaos and pay disputes when they get there. #allshowandnogo     \n",
       "6                                                                         @user camping tomorrow @user @user @user @user @user @user @user dannyâ¦   \n",
       "7   the next school year is the year for exams.ð¯ can't think about that ð­ #school #exams   #hate #imagine #actorslife #revolutionschool #girl   \n",
       "8                                                           we won!!! love the land!!! #allin #cavs #champions #cleveland #clevelandcavaliers  â¦    \n",
       "9                                                                                                 @user @user welcome here !  i'm   it's so #gr8 !    \n",
       "10                                   â #ireland consumer price index (mom) climbed from previous 0.2% to 0.5% in may   #blog #silver #gold #forex   \n",
       "11            we are so selfish. #orlando #standwithorlando #pulseshooting #orlandoshooting #biggerproblems #selfish #heabreaking   #values #love #   \n",
       "12                                                                                              i get to see my daddy today!!   #80days #gettingfed   \n",
       "13                                                                       @user #cnn calls #michigan middle school 'build the wall' chant '' #tcot     \n",
       "14                                            no comment!  in #australia   #opkillingbay #seashepherd #helpcovedolphins #thecove  #helpcovedolphins   \n",
       "15                                                                                         ouch...junior is angryð#got7 #junior #yugyoem   #omg    \n",
       "16                                                                                       i am thankful for having a paner. #thankful #positive        \n",
       "17                                                                                                                           retweet if you agree!    \n",
       "18                                                                   its #friday! ð smiles all around via ig user: @user #cookies make people      \n",
       "19                                                                                       as we all know, essential oils are not made of chemicals.    \n",
       "\n",
       "                                                                                         cleaned_tweet  \\\n",
       "0             when a father is dysfunctional and is so selfish he drags his kids into his dysfunction.   \n",
       "1                        thanks for  credit i can't use cause they don't offer wheelchair vans in pdx.   \n",
       "2                                                                                  bihday your majesty   \n",
       "3                          i love u take with u all the time in urð±!!! ðððð\n",
       "ð¦ð¦ð¦   \n",
       "4                                                                              factsguide: society now   \n",
       "5   [2/2] huge fan fare and big talking before they leave. chaos and pay disputes when they get there.   \n",
       "6                                                                     camping tomorrow        dannyâ¦   \n",
       "7                          the next school year is the year for exams.ð¯ can't think about that ð­   \n",
       "8                                                                 we won!!! love the land!!!       â¦   \n",
       "9                                                                     welcome here !  i'm   it's so  !   \n",
       "10                           â  consumer price index (mom) climbed from previous 0.2% to 0.5% in may   \n",
       "11                                                                     we are so selfish.            #   \n",
       "12                                                                       i get to see my daddy today!!   \n",
       "13                                                      calls  middle school 'build the wall' chant ''   \n",
       "14                                                                                     no comment!  in   \n",
       "15                                                                          ouch...junior is angryð   \n",
       "16                                                                   i am thankful for having a paner.   \n",
       "17                                                                               retweet if you agree!   \n",
       "18                                             its ! ð smiles all around via ig user:   make people   \n",
       "19                                           as we all know, essential oils are not made of chemicals.   \n",
       "\n",
       "                                                                                         decoded_tweet  \\\n",
       "0             when a father is dysfunctional and is so selfish he drags his kids into his dysfunction.   \n",
       "1                        thanks for  credit i can't use cause they don't offer wheelchair vans in pdx.   \n",
       "2                                                                                  bihday your majesty   \n",
       "3                                                  i love u take with u all the time in ur📱!!! 😙😎👄👅💦💦💦   \n",
       "4                                                                              factsguide: society now   \n",
       "5   [2/2] huge fan fare and big talking before they leave. chaos and pay disputes when they get there.   \n",
       "6                                                                       camping tomorrow        danny…   \n",
       "7                                the next school year is the year for exams.😯 can't think about that 😭   \n",
       "8                                                                   we won!!! love the land!!!       …   \n",
       "9                                                                     welcome here !  i'm   it's so  !   \n",
       "10                             ↝  consumer price index (mom) climbed from previous 0.2% to 0.5% in may   \n",
       "11                                                                     we are so selfish.            #   \n",
       "12                                                                       i get to see my daddy today!!   \n",
       "13                                                      calls  middle school 'build the wall' chant ''   \n",
       "14                                                                                     no comment!  in   \n",
       "15                                                                             ouch...junior is angry😐   \n",
       "16                                                                   i am thankful for having a paner.   \n",
       "17                                                                               retweet if you agree!   \n",
       "18                                                its ! 😀 smiles all around via ig user:   make people   \n",
       "19                                           as we all know, essential oils are not made of chemicals.   \n",
       "\n",
       "                                                                                       clean_duplicate  \n",
       "0             when a father is dysfunctional and is so selfish he drags his kids into his dysfunction.  \n",
       "1                        thanks for  credit i can't use cause they don't offer wheelchair vans in pdx.  \n",
       "2                                                                                  bihday your majesty  \n",
       "3                                                  i love u take with u all the time in ur📱!!! 😙😎👄👅💦💦💦  \n",
       "4                                                                              factsguide: society now  \n",
       "5   [2/2] huge fan fare and big talking before they leave. chaos and pay disputes when they get there.  \n",
       "6                                                                       camping tomorrow        danny…  \n",
       "7                                the next school year is the year for exams.😯 can't think about that 😭  \n",
       "8                                                                   we won!!! love the land!!!       …  \n",
       "9                                                                     welcome here !  i'm   it's so  !  \n",
       "10                             ↝  consumer price index (mom) climbed from previous 0.2% to 0.5% in may  \n",
       "11                                                                     we are so selfish.            #  \n",
       "12                                                                       i get to see my daddy today!!  \n",
       "13                                                      calls  middle school 'build the wall' chant ''  \n",
       "14                                                                                     no comment!  in  \n",
       "15                                                                             ouch...junior is angry😐  \n",
       "16                                                                   i am thankful for having a paner.  \n",
       "17                                                                               retweet if you agree!  \n",
       "18                                                its ! 😀 smiles all around via ig user:   make people  \n",
       "19                                           as we all know, essential oils are not made of chemicals.  "
      ]
     },
     "execution_count": 30,
     "metadata": {},
     "output_type": "execute_result"
    }
   ],
   "source": [
    "df_train.head(20)"
   ]
  },
  {
   "cell_type": "markdown",
   "metadata": {},
   "source": [
    "## Emoji Processing"
   ]
  },
  {
   "cell_type": "code",
   "execution_count": 31,
   "metadata": {
    "execution": {
     "iopub.execute_input": "2025-01-02T07:24:10.032189Z",
     "iopub.status.busy": "2025-01-02T07:24:10.031813Z",
     "iopub.status.idle": "2025-01-02T07:24:14.620056Z",
     "shell.execute_reply": "2025-01-02T07:24:14.618901Z",
     "shell.execute_reply.started": "2025-01-02T07:24:10.032156Z"
    },
    "trusted": true
   },
   "outputs": [
    {
     "name": "stdout",
     "output_type": "stream",
     "text": [
      "Requirement already satisfied: emoji in /usr/local/lib/python3.10/dist-packages (2.14.0)\n"
     ]
    }
   ],
   "source": [
    "!pip install emoji"
   ]
  },
  {
   "cell_type": "code",
   "execution_count": 32,
   "metadata": {
    "execution": {
     "iopub.execute_input": "2025-01-02T07:24:14.621606Z",
     "iopub.status.busy": "2025-01-02T07:24:14.621243Z",
     "iopub.status.idle": "2025-01-02T07:24:14.658139Z",
     "shell.execute_reply": "2025-01-02T07:24:14.657547Z",
     "shell.execute_reply.started": "2025-01-02T07:24:14.621573Z"
    },
    "trusted": true
   },
   "outputs": [],
   "source": [
    "import emoji\n",
    "def emoji_text_trans(text):\n",
    "    text= emoji.demojize(text).replace (':', ' ')\n",
    "\n",
    "    #delete repeated emoji \n",
    "    tokenize= text.split()\n",
    "    repeated_list=[]\n",
    "    for word in tokenize:\n",
    "        if word not in repeated_list:\n",
    "            repeated_list.append(word)\n",
    "\n",
    "    text=' '.join(word for word in repeated_list)\n",
    "    text= text.replace(\"_\", \" \").replace(\"-\", \" \")\n",
    "    return text"
   ]
  },
  {
   "cell_type": "code",
   "execution_count": 33,
   "metadata": {
    "execution": {
     "iopub.execute_input": "2025-01-02T07:24:14.658959Z",
     "iopub.status.busy": "2025-01-02T07:24:14.658737Z",
     "iopub.status.idle": "2025-01-02T07:24:16.420270Z",
     "shell.execute_reply": "2025-01-02T07:24:16.419598Z",
     "shell.execute_reply.started": "2025-01-02T07:24:14.658941Z"
    },
    "trusted": true
   },
   "outputs": [],
   "source": [
    "df_train[\"deemoji_tweet\"] = df_train[\"clean_duplicate\"].apply(emoji_text_trans)"
   ]
  },
  {
   "cell_type": "code",
   "execution_count": 35,
   "metadata": {
    "execution": {
     "iopub.execute_input": "2025-01-02T07:25:43.448838Z",
     "iopub.status.busy": "2025-01-02T07:25:43.448506Z",
     "iopub.status.idle": "2025-01-02T07:25:43.607235Z",
     "shell.execute_reply": "2025-01-02T07:25:43.606492Z",
     "shell.execute_reply.started": "2025-01-02T07:25:43.448811Z"
    },
    "trusted": true
   },
   "outputs": [
    {
     "data": {
      "text/plain": [
       "28869    he was investigated for terrorist ties twice before. known to fbi and police as a terror suspect.\n",
       "6813                                3 weeks until holiday!!!!!!! sun person swimming soft ice cream bikini\n",
       "29888                                                                                      can you relate?\n",
       "10931                                                          just can't get enough of him!! purple heart\n",
       "16146                officially signed up for this year   and on the way to getting our team put together!\n",
       "Name: deemoji_tweet, dtype: object"
      ]
     },
     "execution_count": 35,
     "metadata": {},
     "output_type": "execute_result"
    }
   ],
   "source": [
    "from sklearn.model_selection import train_test_split\n",
    "#label\n",
    "y= df_train.label\n",
    "#features\n",
    "x=df_train.deemoji_tweet\n",
    "#split into test and train dataset with test size 20% \n",
    "x_train,x_test,y_train,y_test=train_test_split(x,y,test_size=0.2)\n",
    "x_train.head()"
   ]
  },
  {
   "cell_type": "markdown",
   "metadata": {},
   "source": [
    "## Distill BERT"
   ]
  },
  {
   "cell_type": "code",
   "execution_count": 37,
   "metadata": {
    "execution": {
     "iopub.execute_input": "2025-01-02T07:26:14.522294Z",
     "iopub.status.busy": "2025-01-02T07:26:14.521934Z",
     "iopub.status.idle": "2025-01-02T07:26:22.777940Z",
     "shell.execute_reply": "2025-01-02T07:26:22.777253Z",
     "shell.execute_reply.started": "2025-01-02T07:26:14.522266Z"
    },
    "trusted": true
   },
   "outputs": [],
   "source": [
    "import torch\n",
    "from transformers import DistilBertTokenizer\n",
    "\n",
    "tokenizer = DistilBertTokenizer.from_pretrained('distilbert-base-uncased')\n",
    "\n",
    "# Tokenize dữ liệu\n",
    "texts = x_train.tolist()  # Dữ liệu văn bản\n",
    "labels = y_train.tolist()  # Nhãn\n",
    "\n",
    "encoded_inputs = tokenizer(\n",
    "    texts,\n",
    "    padding=True,\n",
    "    truncation=True,\n",
    "    max_length=128,\n",
    "    return_tensors=\"pt\"\n",
    ")\n",
    "\n",
    "input_ids = encoded_inputs['input_ids']\n",
    "attention_mask = encoded_inputs['attention_mask']\n",
    "labels = torch.tensor(labels)\n"
   ]
  },
  {
   "cell_type": "markdown",
   "metadata": {},
   "source": [
    "### fine-tune"
   ]
  },
  {
   "cell_type": "code",
   "execution_count": 38,
   "metadata": {
    "execution": {
     "iopub.execute_input": "2025-01-02T07:26:29.650318Z",
     "iopub.status.busy": "2025-01-02T07:26:29.649984Z",
     "iopub.status.idle": "2025-01-02T07:41:17.847764Z",
     "shell.execute_reply": "2025-01-02T07:41:17.846738Z",
     "shell.execute_reply.started": "2025-01-02T07:26:29.650289Z"
    },
    "trusted": true
   },
   "outputs": [
    {
     "data": {
      "application/vnd.jupyter.widget-view+json": {
       "model_id": "0fe965ebc95a4c729992cb67a5433ab7",
       "version_major": 2,
       "version_minor": 0
      },
      "text/plain": [
       "model.safetensors:   0%|          | 0.00/268M [00:00<?, ?B/s]"
      ]
     },
     "metadata": {},
     "output_type": "display_data"
    },
    {
     "name": "stderr",
     "output_type": "stream",
     "text": [
      "Some weights of DistilBertForSequenceClassification were not initialized from the model checkpoint at distilbert-base-uncased and are newly initialized: ['classifier.bias', 'classifier.weight', 'pre_classifier.bias', 'pre_classifier.weight']\n",
      "You should probably TRAIN this model on a down-stream task to be able to use it for predictions and inference.\n"
     ]
    },
    {
     "name": "stdout",
     "output_type": "stream",
     "text": [
      "Epoch 1, Loss: 0.1568\n",
      "Epoch 2, Loss: 0.0774\n",
      "Epoch 3, Loss: 0.0325\n"
     ]
    }
   ],
   "source": [
    "from transformers import DistilBertForSequenceClassification\n",
    "from torch.utils.data import DataLoader, TensorDataset\n",
    "import torch.nn as nn\n",
    "import torch\n",
    "\n",
    "# Khởi tạo mô hình với số nhãn\n",
    "model = DistilBertForSequenceClassification.from_pretrained(\n",
    "    'distilbert-base-uncased', num_labels=2\n",
    ")\n",
    "\n",
    "# Dataset và DataLoader\n",
    "dataset = TensorDataset(input_ids, attention_mask, labels)\n",
    "train_loader = DataLoader(dataset, batch_size=16, shuffle=True)\n",
    "\n",
    "# Optimizer và Loss\n",
    "optimizer = torch.optim.AdamW(model.parameters(), lr=5e-5)\n",
    "criterion = nn.CrossEntropyLoss()\n",
    "\n",
    "# Huấn luyện\n",
    "device = torch.device('cuda' if torch.cuda.is_available() else 'cpu')\n",
    "model.to(device)\n",
    "\n",
    "for epoch in range(3):\n",
    "    model.train()\n",
    "    epoch_loss = 0\n",
    "    for batch in train_loader:\n",
    "        b_input_ids, b_attention_mask, b_labels = tuple(t.to(device) for t in batch)\n",
    "\n",
    "        optimizer.zero_grad()\n",
    "        outputs = model(\n",
    "            input_ids=b_input_ids,\n",
    "            attention_mask=b_attention_mask,\n",
    "            labels=b_labels\n",
    "        )\n",
    "        loss = outputs.loss\n",
    "        logits = outputs.logits\n",
    "\n",
    "        loss.backward()\n",
    "        optimizer.step()\n",
    "        epoch_loss += loss.item()\n",
    "\n",
    "    print(f\"Epoch {epoch + 1}, Loss: {epoch_loss / len(train_loader):.4f}\")\n"
   ]
  },
  {
   "cell_type": "markdown",
   "metadata": {},
   "source": [
    "### evaluate model"
   ]
  },
  {
   "cell_type": "code",
   "execution_count": null,
   "metadata": {
    "execution": {
     "iopub.status.busy": "2025-01-02T07:24:16.560662Z",
     "iopub.status.idle": "2025-01-02T07:24:16.561076Z",
     "shell.execute_reply": "2025-01-02T07:24:16.560896Z"
    },
    "trusted": true
   },
   "outputs": [],
   "source": [
    "# model.eval()\n",
    "# with torch.no_grad():\n",
    "#     # Chạy mô hình với tập validation\n",
    "#     outputs = model(input_ids=input_ids.to(device), attention_mask=attention_mask.to(device))\n",
    "#     logits = outputs.logits\n",
    "#     predictions = torch.argmax(logits, dim=-1)\n"
   ]
  },
  {
   "cell_type": "code",
   "execution_count": 39,
   "metadata": {
    "execution": {
     "iopub.execute_input": "2025-01-02T07:44:16.278879Z",
     "iopub.status.busy": "2025-01-02T07:44:16.278310Z",
     "iopub.status.idle": "2025-01-02T07:44:31.541786Z",
     "shell.execute_reply": "2025-01-02T07:44:31.540845Z",
     "shell.execute_reply.started": "2025-01-02T07:44:16.278851Z"
    },
    "trusted": true
   },
   "outputs": [
    {
     "name": "stdout",
     "output_type": "stream",
     "text": [
      "Accuracy on test set: 0.9587\n"
     ]
    }
   ],
   "source": [
    "# Tokenize dữ liệu x_test\n",
    "texts_test = x_test.tolist()  # Dữ liệu văn bản test\n",
    "labels_test = y_test.tolist()  # Nhãn test\n",
    "\n",
    "encoded_test_inputs = tokenizer(\n",
    "    texts_test,\n",
    "    padding=True,\n",
    "    truncation=True,\n",
    "    max_length=128,\n",
    "    return_tensors=\"pt\"\n",
    ")\n",
    "\n",
    "test_input_ids = encoded_test_inputs['input_ids']\n",
    "test_attention_mask = encoded_test_inputs['attention_mask']\n",
    "test_labels = torch.tensor(labels_test)\n",
    "\n",
    "# Tạo DataLoader cho tập test\n",
    "test_dataset = TensorDataset(test_input_ids, test_attention_mask, test_labels)\n",
    "test_loader = DataLoader(test_dataset, batch_size=16, shuffle=False)\n",
    "\n",
    "# Đánh giá mô hình\n",
    "model.eval()\n",
    "correct = 0\n",
    "total = 0\n",
    "\n",
    "with torch.no_grad():\n",
    "    for batch in test_loader:\n",
    "        b_input_ids, b_attention_mask, b_labels = tuple(t.to(device) for t in batch)\n",
    "\n",
    "        outputs = model(\n",
    "            input_ids=b_input_ids,\n",
    "            attention_mask=b_attention_mask\n",
    "        )\n",
    "        logits = outputs.logits\n",
    "        predictions = torch.argmax(logits, dim=-1)\n",
    "\n",
    "        correct += (predictions == b_labels).sum().item()\n",
    "        total += b_labels.size(0)\n",
    "\n",
    "accuracy = correct / total\n",
    "print(f\"Accuracy on test set: {accuracy:.4f}\")\n"
   ]
  },
  {
   "cell_type": "code",
   "execution_count": null,
   "metadata": {
    "execution": {
     "iopub.status.busy": "2025-01-02T07:24:16.563346Z",
     "iopub.status.idle": "2025-01-02T07:24:16.563933Z",
     "shell.execute_reply": "2025-01-02T07:24:16.563748Z"
    },
    "trusted": true
   },
   "outputs": [],
   "source": [
    "# import pickle\n",
    "\n",
    "# # Lưu các hàm trong tệp Python\n",
    "# with open('/kaggle/working/tokenizer_functions.pkl', 'wb') as f:\n",
    "#     pickle.dump({\n",
    "#         'tokenize_data': tokenize_data,\n",
    "#         'data_split': data_split,\n",
    "#         'DistilBert_model': DistilBert_model\n",
    "#     }, f)\n"
   ]
  },
  {
   "cell_type": "markdown",
   "metadata": {},
   "source": [
    "## Save model"
   ]
  },
  {
   "cell_type": "code",
   "execution_count": 40,
   "metadata": {
    "execution": {
     "iopub.execute_input": "2025-01-02T07:53:16.985165Z",
     "iopub.status.busy": "2025-01-02T07:53:16.984801Z",
     "iopub.status.idle": "2025-01-02T07:53:17.925374Z",
     "shell.execute_reply": "2025-01-02T07:53:17.924594Z",
     "shell.execute_reply.started": "2025-01-02T07:53:16.985138Z"
    },
    "trusted": true
   },
   "outputs": [
    {
     "data": {
      "text/plain": [
       "('/kaggle/working/distilbert_model/tokenizer_config.json',\n",
       " '/kaggle/working/distilbert_model/special_tokens_map.json',\n",
       " '/kaggle/working/distilbert_model/vocab.txt',\n",
       " '/kaggle/working/distilbert_model/added_tokens.json')"
      ]
     },
     "execution_count": 40,
     "metadata": {},
     "output_type": "execute_result"
    }
   ],
   "source": [
    "# Lưu mô hình và tokenizer vào thư mục\n",
    "model.save_pretrained(\"/kaggle/working/distilbert_model\")\n",
    "tokenizer.save_pretrained(\"/kaggle/working/distilbert_model\")\n"
   ]
  },
  {
   "cell_type": "code",
   "execution_count": 42,
   "metadata": {
    "execution": {
     "iopub.execute_input": "2025-01-02T07:54:17.945685Z",
     "iopub.status.busy": "2025-01-02T07:54:17.945332Z",
     "iopub.status.idle": "2025-01-02T07:54:32.108064Z",
     "shell.execute_reply": "2025-01-02T07:54:32.107216Z",
     "shell.execute_reply.started": "2025-01-02T07:54:17.945659Z"
    },
    "trusted": true
   },
   "outputs": [
    {
     "data": {
      "text/plain": [
       "'/kaggle/working/distilbert_model.zip.zip'"
      ]
     },
     "execution_count": 42,
     "metadata": {},
     "output_type": "execute_result"
    }
   ],
   "source": [
    "import shutil\n",
    "\n",
    "# Nén thư mục mô hình thành file zip\n",
    "shutil.make_archive('/kaggle/working/distilbert_model.zip', 'zip', '/kaggle/working', 'distilbert_model')"
   ]
  },
  {
   "cell_type": "code",
   "execution_count": null,
   "metadata": {
    "execution": {
     "iopub.status.busy": "2025-01-02T07:24:16.569460Z",
     "iopub.status.idle": "2025-01-02T07:24:16.569905Z",
     "shell.execute_reply": "2025-01-02T07:24:16.569706Z"
    },
    "trusted": true
   },
   "outputs": [],
   "source": [
    "# new_texts = [\"This product is amazing!\", \"I hated the service.\"]\n",
    "# # Tokenize dữ liệu test (đã có hàm tokenize_data)\n",
    "# tokenized_test_data = tokenize_data(new_texts, tokenizer)  # Tokenize dữ liệu test\n",
    "\n",
    "# # Chia dữ liệu test thành các batch (đã có hàm data_split)\n",
    "# list_test_df = data_split(tokenized_test_data, batch_size)  # Chia test thành batch\n",
    "\n",
    "# # Chạy mô hình DistilBERT để trích xuất đặc trưng cho dữ liệu test (đã có hàm DistilBert_model)\n",
    "# BERT_test_features = DistilBert_model(list_test_df)  # Chạy mô hình DistilBERT trên test"
   ]
  },
  {
   "cell_type": "markdown",
   "metadata": {},
   "source": [
    "## Test classification"
   ]
  },
  {
   "cell_type": "code",
   "execution_count": 43,
   "metadata": {
    "execution": {
     "iopub.execute_input": "2025-01-02T07:56:31.265228Z",
     "iopub.status.busy": "2025-01-02T07:56:31.264903Z",
     "iopub.status.idle": "2025-01-02T07:56:31.273306Z",
     "shell.execute_reply": "2025-01-02T07:56:31.272612Z",
     "shell.execute_reply.started": "2025-01-02T07:56:31.265203Z"
    },
    "trusted": true
   },
   "outputs": [
    {
     "data": {
      "text/plain": [
       "0                                                               #studiolife #aislife #requires #passion #dedication #willpower   to find #newmaterialsâ¦ \n",
       "1                                                     @user #white #supremacists want everyone to see the new â  #birdsâ #movie â and hereâs why  \n",
       "2                                                                                  safe ways to heal your #acne!!    #altwaystoheal #healthy   #healing!! \n",
       "3           is the hp and the cursed child book up for reservations already? if yes, where? if no, when? ððð   #harrypotter #pottermore #favorite\n",
       "4                                                              3rd #bihday to my amazing, hilarious #nephew eli ahmir! uncle dave loves you and missesâ¦ \n",
       "                                                                               ...                                                                        \n",
       "17192                                         thought factory: left-right polarisation! #trump #uselections2016 #leadership #politics  #brexit #blm &gt;3 \n",
       "17193                                                     feeling like a mermaid ð #hairflip #neverready #formal #wedding #gown #dresses #mermaid  â¦ \n",
       "17194    #hillary #campaigned today in #ohio((omg)) &amp; used words like \"assets&amp;liability\" never once did #clinton say thee(word) #radicalization   \n",
       "17195                                             happy, at work conference: right mindset leads to culture-of-development organizations    #work #mindset\n",
       "17196                                                                                     my   song \"so glad\" free download!  #shoegaze #newmusic #newsong\n",
       "Name: tweet, Length: 17197, dtype: object"
      ]
     },
     "execution_count": 43,
     "metadata": {},
     "output_type": "execute_result"
    },
    {
     "name": "stdout",
     "output_type": "stream",
     "text": [
      "The history saving thread hit an unexpected error (OperationalError('attempt to write a readonly database')).History will not be written to the database.\n"
     ]
    }
   ],
   "source": [
    "df_test[\"tweet\"]"
   ]
  },
  {
   "cell_type": "code",
   "execution_count": 44,
   "metadata": {
    "execution": {
     "iopub.execute_input": "2025-01-02T07:58:46.947158Z",
     "iopub.status.busy": "2025-01-02T07:58:46.946792Z",
     "iopub.status.idle": "2025-01-02T07:58:48.107926Z",
     "shell.execute_reply": "2025-01-02T07:58:48.106938Z",
     "shell.execute_reply.started": "2025-01-02T07:58:46.947129Z"
    },
    "trusted": true
   },
   "outputs": [],
   "source": [
    "df_test['cleaned_tweet']= df_test['tweet'].apply(clean_text)\n",
    "# Đảm bảo cột 'tweet' là kiểu chuỗi trước khi áp dụng hàm kiểm tra\n",
    "df_test['cleaned_tweet'] = df_test['cleaned_tweet'].astype(str)\n",
    "\n",
    "# Tạo một cột mới để lưu tweet đã được mã hóa lại\n",
    "df_test['decoded_tweet'] = df_test['cleaned_tweet'].apply(lambda x: decode_text(x) if contains_invalid_encoding(x) else x)\n",
    "df_test['clean_duplicate']=df_test['decoded_tweet'].apply(repeated_char)\n",
    "df_test[\"deemoji_tweet\"] = df_test[\"clean_duplicate\"].apply(emoji_text_trans)"
   ]
  },
  {
   "cell_type": "code",
   "execution_count": 47,
   "metadata": {
    "execution": {
     "iopub.execute_input": "2025-01-02T08:08:03.070411Z",
     "iopub.status.busy": "2025-01-02T08:08:03.070082Z",
     "iopub.status.idle": "2025-01-02T08:08:03.073882Z",
     "shell.execute_reply": "2025-01-02T08:08:03.073007Z",
     "shell.execute_reply.started": "2025-01-02T08:08:03.070385Z"
    },
    "trusted": true
   },
   "outputs": [],
   "source": [
    "import torch\n",
    "torch.cuda.empty_cache()"
   ]
  },
  {
   "cell_type": "code",
   "execution_count": 48,
   "metadata": {
    "execution": {
     "iopub.execute_input": "2025-01-02T08:12:53.703707Z",
     "iopub.status.busy": "2025-01-02T08:12:53.703366Z",
     "iopub.status.idle": "2025-01-02T08:12:59.057329Z",
     "shell.execute_reply": "2025-01-02T08:12:59.056035Z",
     "shell.execute_reply.started": "2025-01-02T08:12:53.703683Z"
    },
    "trusted": true
   },
   "outputs": [
    {
     "ename": "OutOfMemoryError",
     "evalue": "CUDA out of memory. Tried to allocate 2.56 GiB. GPU 0 has a total capacity of 14.74 GiB of which 696.12 MiB is free. Process 2944 has 14.06 GiB memory in use. Of the allocated memory 11.79 GiB is allocated by PyTorch, and 2.13 GiB is reserved by PyTorch but unallocated. If reserved but unallocated memory is large try setting PYTORCH_CUDA_ALLOC_CONF=expandable_segments:True to avoid fragmentation.  See documentation for Memory Management  (https://pytorch.org/docs/stable/notes/cuda.html#environment-variables)",
     "output_type": "error",
     "traceback": [
      "\u001b[0;31m---------------------------------------------------------------------------\u001b[0m",
      "\u001b[0;31mOutOfMemoryError\u001b[0m                          Traceback (most recent call last)",
      "\u001b[0;32m<ipython-input-48-f67875bd723e>\u001b[0m in \u001b[0;36m<cell line: 32>\u001b[0;34m()\u001b[0m\n\u001b[1;32m     31\u001b[0m \u001b[0mmodel\u001b[0m\u001b[0;34m.\u001b[0m\u001b[0meval\u001b[0m\u001b[0;34m(\u001b[0m\u001b[0;34m)\u001b[0m  \u001b[0;31m# Chế độ đánh giá\u001b[0m\u001b[0;34m\u001b[0m\u001b[0;34m\u001b[0m\u001b[0m\n\u001b[1;32m     32\u001b[0m \u001b[0;32mwith\u001b[0m \u001b[0mtorch\u001b[0m\u001b[0;34m.\u001b[0m\u001b[0mno_grad\u001b[0m\u001b[0;34m(\u001b[0m\u001b[0;34m)\u001b[0m\u001b[0;34m:\u001b[0m  \u001b[0;31m# Không tính toán gradient khi chỉ dự đoán\u001b[0m\u001b[0;34m\u001b[0m\u001b[0;34m\u001b[0m\u001b[0m\n\u001b[0;32m---> 33\u001b[0;31m     \u001b[0moutputs\u001b[0m \u001b[0;34m=\u001b[0m \u001b[0mmodel\u001b[0m\u001b[0;34m(\u001b[0m\u001b[0minput_ids\u001b[0m\u001b[0;34m=\u001b[0m\u001b[0minput_ids\u001b[0m\u001b[0;34m,\u001b[0m \u001b[0mattention_mask\u001b[0m\u001b[0;34m=\u001b[0m\u001b[0mattention_mask\u001b[0m\u001b[0;34m)\u001b[0m\u001b[0;34m\u001b[0m\u001b[0;34m\u001b[0m\u001b[0m\n\u001b[0m\u001b[1;32m     34\u001b[0m     \u001b[0mlogits\u001b[0m \u001b[0;34m=\u001b[0m \u001b[0moutputs\u001b[0m\u001b[0;34m.\u001b[0m\u001b[0mlogits\u001b[0m\u001b[0;34m\u001b[0m\u001b[0;34m\u001b[0m\u001b[0m\n\u001b[1;32m     35\u001b[0m     \u001b[0mpredictions\u001b[0m \u001b[0;34m=\u001b[0m \u001b[0mtorch\u001b[0m\u001b[0;34m.\u001b[0m\u001b[0margmax\u001b[0m\u001b[0;34m(\u001b[0m\u001b[0mlogits\u001b[0m\u001b[0;34m,\u001b[0m \u001b[0mdim\u001b[0m\u001b[0;34m=\u001b[0m\u001b[0;34m-\u001b[0m\u001b[0;36m1\u001b[0m\u001b[0;34m)\u001b[0m\u001b[0;34m\u001b[0m\u001b[0;34m\u001b[0m\u001b[0m\n",
      "\u001b[0;32m/usr/local/lib/python3.10/dist-packages/torch/nn/modules/module.py\u001b[0m in \u001b[0;36m_wrapped_call_impl\u001b[0;34m(self, *args, **kwargs)\u001b[0m\n\u001b[1;32m   1551\u001b[0m             \u001b[0;32mreturn\u001b[0m \u001b[0mself\u001b[0m\u001b[0;34m.\u001b[0m\u001b[0m_compiled_call_impl\u001b[0m\u001b[0;34m(\u001b[0m\u001b[0;34m*\u001b[0m\u001b[0margs\u001b[0m\u001b[0;34m,\u001b[0m \u001b[0;34m**\u001b[0m\u001b[0mkwargs\u001b[0m\u001b[0;34m)\u001b[0m  \u001b[0;31m# type: ignore[misc]\u001b[0m\u001b[0;34m\u001b[0m\u001b[0;34m\u001b[0m\u001b[0m\n\u001b[1;32m   1552\u001b[0m         \u001b[0;32melse\u001b[0m\u001b[0;34m:\u001b[0m\u001b[0;34m\u001b[0m\u001b[0;34m\u001b[0m\u001b[0m\n\u001b[0;32m-> 1553\u001b[0;31m             \u001b[0;32mreturn\u001b[0m \u001b[0mself\u001b[0m\u001b[0;34m.\u001b[0m\u001b[0m_call_impl\u001b[0m\u001b[0;34m(\u001b[0m\u001b[0;34m*\u001b[0m\u001b[0margs\u001b[0m\u001b[0;34m,\u001b[0m \u001b[0;34m**\u001b[0m\u001b[0mkwargs\u001b[0m\u001b[0;34m)\u001b[0m\u001b[0;34m\u001b[0m\u001b[0;34m\u001b[0m\u001b[0m\n\u001b[0m\u001b[1;32m   1554\u001b[0m \u001b[0;34m\u001b[0m\u001b[0m\n\u001b[1;32m   1555\u001b[0m     \u001b[0;32mdef\u001b[0m \u001b[0m_call_impl\u001b[0m\u001b[0;34m(\u001b[0m\u001b[0mself\u001b[0m\u001b[0;34m,\u001b[0m \u001b[0;34m*\u001b[0m\u001b[0margs\u001b[0m\u001b[0;34m,\u001b[0m \u001b[0;34m**\u001b[0m\u001b[0mkwargs\u001b[0m\u001b[0;34m)\u001b[0m\u001b[0;34m:\u001b[0m\u001b[0;34m\u001b[0m\u001b[0;34m\u001b[0m\u001b[0m\n",
      "\u001b[0;32m/usr/local/lib/python3.10/dist-packages/torch/nn/modules/module.py\u001b[0m in \u001b[0;36m_call_impl\u001b[0;34m(self, *args, **kwargs)\u001b[0m\n\u001b[1;32m   1560\u001b[0m                 \u001b[0;32mor\u001b[0m \u001b[0m_global_backward_pre_hooks\u001b[0m \u001b[0;32mor\u001b[0m \u001b[0m_global_backward_hooks\u001b[0m\u001b[0;34m\u001b[0m\u001b[0;34m\u001b[0m\u001b[0m\n\u001b[1;32m   1561\u001b[0m                 or _global_forward_hooks or _global_forward_pre_hooks):\n\u001b[0;32m-> 1562\u001b[0;31m             \u001b[0;32mreturn\u001b[0m \u001b[0mforward_call\u001b[0m\u001b[0;34m(\u001b[0m\u001b[0;34m*\u001b[0m\u001b[0margs\u001b[0m\u001b[0;34m,\u001b[0m \u001b[0;34m**\u001b[0m\u001b[0mkwargs\u001b[0m\u001b[0;34m)\u001b[0m\u001b[0;34m\u001b[0m\u001b[0;34m\u001b[0m\u001b[0m\n\u001b[0m\u001b[1;32m   1563\u001b[0m \u001b[0;34m\u001b[0m\u001b[0m\n\u001b[1;32m   1564\u001b[0m         \u001b[0;32mtry\u001b[0m\u001b[0;34m:\u001b[0m\u001b[0;34m\u001b[0m\u001b[0;34m\u001b[0m\u001b[0m\n",
      "\u001b[0;32m/usr/local/lib/python3.10/dist-packages/transformers/models/distilbert/modeling_distilbert.py\u001b[0m in \u001b[0;36mforward\u001b[0;34m(self, input_ids, attention_mask, head_mask, inputs_embeds, labels, output_attentions, output_hidden_states, return_dict)\u001b[0m\n\u001b[1;32m    881\u001b[0m         \u001b[0mreturn_dict\u001b[0m \u001b[0;34m=\u001b[0m \u001b[0mreturn_dict\u001b[0m \u001b[0;32mif\u001b[0m \u001b[0mreturn_dict\u001b[0m \u001b[0;32mis\u001b[0m \u001b[0;32mnot\u001b[0m \u001b[0;32mNone\u001b[0m \u001b[0;32melse\u001b[0m \u001b[0mself\u001b[0m\u001b[0;34m.\u001b[0m\u001b[0mconfig\u001b[0m\u001b[0;34m.\u001b[0m\u001b[0muse_return_dict\u001b[0m\u001b[0;34m\u001b[0m\u001b[0;34m\u001b[0m\u001b[0m\n\u001b[1;32m    882\u001b[0m \u001b[0;34m\u001b[0m\u001b[0m\n\u001b[0;32m--> 883\u001b[0;31m         distilbert_output = self.distilbert(\n\u001b[0m\u001b[1;32m    884\u001b[0m             \u001b[0minput_ids\u001b[0m\u001b[0;34m=\u001b[0m\u001b[0minput_ids\u001b[0m\u001b[0;34m,\u001b[0m\u001b[0;34m\u001b[0m\u001b[0;34m\u001b[0m\u001b[0m\n\u001b[1;32m    885\u001b[0m             \u001b[0mattention_mask\u001b[0m\u001b[0;34m=\u001b[0m\u001b[0mattention_mask\u001b[0m\u001b[0;34m,\u001b[0m\u001b[0;34m\u001b[0m\u001b[0;34m\u001b[0m\u001b[0m\n",
      "\u001b[0;32m/usr/local/lib/python3.10/dist-packages/torch/nn/modules/module.py\u001b[0m in \u001b[0;36m_wrapped_call_impl\u001b[0;34m(self, *args, **kwargs)\u001b[0m\n\u001b[1;32m   1551\u001b[0m             \u001b[0;32mreturn\u001b[0m \u001b[0mself\u001b[0m\u001b[0;34m.\u001b[0m\u001b[0m_compiled_call_impl\u001b[0m\u001b[0;34m(\u001b[0m\u001b[0;34m*\u001b[0m\u001b[0margs\u001b[0m\u001b[0;34m,\u001b[0m \u001b[0;34m**\u001b[0m\u001b[0mkwargs\u001b[0m\u001b[0;34m)\u001b[0m  \u001b[0;31m# type: ignore[misc]\u001b[0m\u001b[0;34m\u001b[0m\u001b[0;34m\u001b[0m\u001b[0m\n\u001b[1;32m   1552\u001b[0m         \u001b[0;32melse\u001b[0m\u001b[0;34m:\u001b[0m\u001b[0;34m\u001b[0m\u001b[0;34m\u001b[0m\u001b[0m\n\u001b[0;32m-> 1553\u001b[0;31m             \u001b[0;32mreturn\u001b[0m \u001b[0mself\u001b[0m\u001b[0;34m.\u001b[0m\u001b[0m_call_impl\u001b[0m\u001b[0;34m(\u001b[0m\u001b[0;34m*\u001b[0m\u001b[0margs\u001b[0m\u001b[0;34m,\u001b[0m \u001b[0;34m**\u001b[0m\u001b[0mkwargs\u001b[0m\u001b[0;34m)\u001b[0m\u001b[0;34m\u001b[0m\u001b[0;34m\u001b[0m\u001b[0m\n\u001b[0m\u001b[1;32m   1554\u001b[0m \u001b[0;34m\u001b[0m\u001b[0m\n\u001b[1;32m   1555\u001b[0m     \u001b[0;32mdef\u001b[0m \u001b[0m_call_impl\u001b[0m\u001b[0;34m(\u001b[0m\u001b[0mself\u001b[0m\u001b[0;34m,\u001b[0m \u001b[0;34m*\u001b[0m\u001b[0margs\u001b[0m\u001b[0;34m,\u001b[0m \u001b[0;34m**\u001b[0m\u001b[0mkwargs\u001b[0m\u001b[0;34m)\u001b[0m\u001b[0;34m:\u001b[0m\u001b[0;34m\u001b[0m\u001b[0;34m\u001b[0m\u001b[0m\n",
      "\u001b[0;32m/usr/local/lib/python3.10/dist-packages/torch/nn/modules/module.py\u001b[0m in \u001b[0;36m_call_impl\u001b[0;34m(self, *args, **kwargs)\u001b[0m\n\u001b[1;32m   1560\u001b[0m                 \u001b[0;32mor\u001b[0m \u001b[0m_global_backward_pre_hooks\u001b[0m \u001b[0;32mor\u001b[0m \u001b[0m_global_backward_hooks\u001b[0m\u001b[0;34m\u001b[0m\u001b[0;34m\u001b[0m\u001b[0m\n\u001b[1;32m   1561\u001b[0m                 or _global_forward_hooks or _global_forward_pre_hooks):\n\u001b[0;32m-> 1562\u001b[0;31m             \u001b[0;32mreturn\u001b[0m \u001b[0mforward_call\u001b[0m\u001b[0;34m(\u001b[0m\u001b[0;34m*\u001b[0m\u001b[0margs\u001b[0m\u001b[0;34m,\u001b[0m \u001b[0;34m**\u001b[0m\u001b[0mkwargs\u001b[0m\u001b[0;34m)\u001b[0m\u001b[0;34m\u001b[0m\u001b[0;34m\u001b[0m\u001b[0m\n\u001b[0m\u001b[1;32m   1563\u001b[0m \u001b[0;34m\u001b[0m\u001b[0m\n\u001b[1;32m   1564\u001b[0m         \u001b[0;32mtry\u001b[0m\u001b[0;34m:\u001b[0m\u001b[0;34m\u001b[0m\u001b[0;34m\u001b[0m\u001b[0m\n",
      "\u001b[0;32m/usr/local/lib/python3.10/dist-packages/transformers/models/distilbert/modeling_distilbert.py\u001b[0m in \u001b[0;36mforward\u001b[0;34m(self, input_ids, attention_mask, head_mask, inputs_embeds, output_attentions, output_hidden_states, return_dict)\u001b[0m\n\u001b[1;32m    701\u001b[0m                 \u001b[0mattention_mask\u001b[0m \u001b[0;34m=\u001b[0m \u001b[0mtorch\u001b[0m\u001b[0;34m.\u001b[0m\u001b[0mones\u001b[0m\u001b[0;34m(\u001b[0m\u001b[0minput_shape\u001b[0m\u001b[0;34m,\u001b[0m \u001b[0mdevice\u001b[0m\u001b[0;34m=\u001b[0m\u001b[0mdevice\u001b[0m\u001b[0;34m)\u001b[0m  \u001b[0;31m# (bs, seq_length)\u001b[0m\u001b[0;34m\u001b[0m\u001b[0;34m\u001b[0m\u001b[0m\n\u001b[1;32m    702\u001b[0m \u001b[0;34m\u001b[0m\u001b[0m\n\u001b[0;32m--> 703\u001b[0;31m         return self.transformer(\n\u001b[0m\u001b[1;32m    704\u001b[0m             \u001b[0mx\u001b[0m\u001b[0;34m=\u001b[0m\u001b[0membeddings\u001b[0m\u001b[0;34m,\u001b[0m\u001b[0;34m\u001b[0m\u001b[0;34m\u001b[0m\u001b[0m\n\u001b[1;32m    705\u001b[0m             \u001b[0mattn_mask\u001b[0m\u001b[0;34m=\u001b[0m\u001b[0mattention_mask\u001b[0m\u001b[0;34m,\u001b[0m\u001b[0;34m\u001b[0m\u001b[0;34m\u001b[0m\u001b[0m\n",
      "\u001b[0;32m/usr/local/lib/python3.10/dist-packages/torch/nn/modules/module.py\u001b[0m in \u001b[0;36m_wrapped_call_impl\u001b[0;34m(self, *args, **kwargs)\u001b[0m\n\u001b[1;32m   1551\u001b[0m             \u001b[0;32mreturn\u001b[0m \u001b[0mself\u001b[0m\u001b[0;34m.\u001b[0m\u001b[0m_compiled_call_impl\u001b[0m\u001b[0;34m(\u001b[0m\u001b[0;34m*\u001b[0m\u001b[0margs\u001b[0m\u001b[0;34m,\u001b[0m \u001b[0;34m**\u001b[0m\u001b[0mkwargs\u001b[0m\u001b[0;34m)\u001b[0m  \u001b[0;31m# type: ignore[misc]\u001b[0m\u001b[0;34m\u001b[0m\u001b[0;34m\u001b[0m\u001b[0m\n\u001b[1;32m   1552\u001b[0m         \u001b[0;32melse\u001b[0m\u001b[0;34m:\u001b[0m\u001b[0;34m\u001b[0m\u001b[0;34m\u001b[0m\u001b[0m\n\u001b[0;32m-> 1553\u001b[0;31m             \u001b[0;32mreturn\u001b[0m \u001b[0mself\u001b[0m\u001b[0;34m.\u001b[0m\u001b[0m_call_impl\u001b[0m\u001b[0;34m(\u001b[0m\u001b[0;34m*\u001b[0m\u001b[0margs\u001b[0m\u001b[0;34m,\u001b[0m \u001b[0;34m**\u001b[0m\u001b[0mkwargs\u001b[0m\u001b[0;34m)\u001b[0m\u001b[0;34m\u001b[0m\u001b[0;34m\u001b[0m\u001b[0m\n\u001b[0m\u001b[1;32m   1554\u001b[0m \u001b[0;34m\u001b[0m\u001b[0m\n\u001b[1;32m   1555\u001b[0m     \u001b[0;32mdef\u001b[0m \u001b[0m_call_impl\u001b[0m\u001b[0;34m(\u001b[0m\u001b[0mself\u001b[0m\u001b[0;34m,\u001b[0m \u001b[0;34m*\u001b[0m\u001b[0margs\u001b[0m\u001b[0;34m,\u001b[0m \u001b[0;34m**\u001b[0m\u001b[0mkwargs\u001b[0m\u001b[0;34m)\u001b[0m\u001b[0;34m:\u001b[0m\u001b[0;34m\u001b[0m\u001b[0;34m\u001b[0m\u001b[0m\n",
      "\u001b[0;32m/usr/local/lib/python3.10/dist-packages/torch/nn/modules/module.py\u001b[0m in \u001b[0;36m_call_impl\u001b[0;34m(self, *args, **kwargs)\u001b[0m\n\u001b[1;32m   1560\u001b[0m                 \u001b[0;32mor\u001b[0m \u001b[0m_global_backward_pre_hooks\u001b[0m \u001b[0;32mor\u001b[0m \u001b[0m_global_backward_hooks\u001b[0m\u001b[0;34m\u001b[0m\u001b[0;34m\u001b[0m\u001b[0m\n\u001b[1;32m   1561\u001b[0m                 or _global_forward_hooks or _global_forward_pre_hooks):\n\u001b[0;32m-> 1562\u001b[0;31m             \u001b[0;32mreturn\u001b[0m \u001b[0mforward_call\u001b[0m\u001b[0;34m(\u001b[0m\u001b[0;34m*\u001b[0m\u001b[0margs\u001b[0m\u001b[0;34m,\u001b[0m \u001b[0;34m**\u001b[0m\u001b[0mkwargs\u001b[0m\u001b[0;34m)\u001b[0m\u001b[0;34m\u001b[0m\u001b[0;34m\u001b[0m\u001b[0m\n\u001b[0m\u001b[1;32m   1563\u001b[0m \u001b[0;34m\u001b[0m\u001b[0m\n\u001b[1;32m   1564\u001b[0m         \u001b[0;32mtry\u001b[0m\u001b[0;34m:\u001b[0m\u001b[0;34m\u001b[0m\u001b[0;34m\u001b[0m\u001b[0m\n",
      "\u001b[0;32m/usr/local/lib/python3.10/dist-packages/transformers/models/distilbert/modeling_distilbert.py\u001b[0m in \u001b[0;36mforward\u001b[0;34m(self, x, attn_mask, head_mask, output_attentions, output_hidden_states, return_dict)\u001b[0m\n\u001b[1;32m    462\u001b[0m                 )\n\u001b[1;32m    463\u001b[0m             \u001b[0;32melse\u001b[0m\u001b[0;34m:\u001b[0m\u001b[0;34m\u001b[0m\u001b[0;34m\u001b[0m\u001b[0m\n\u001b[0;32m--> 464\u001b[0;31m                 layer_outputs = layer_module(\n\u001b[0m\u001b[1;32m    465\u001b[0m                     \u001b[0mhidden_state\u001b[0m\u001b[0;34m,\u001b[0m\u001b[0;34m\u001b[0m\u001b[0;34m\u001b[0m\u001b[0m\n\u001b[1;32m    466\u001b[0m                     \u001b[0mattn_mask\u001b[0m\u001b[0;34m,\u001b[0m\u001b[0;34m\u001b[0m\u001b[0;34m\u001b[0m\u001b[0m\n",
      "\u001b[0;32m/usr/local/lib/python3.10/dist-packages/torch/nn/modules/module.py\u001b[0m in \u001b[0;36m_wrapped_call_impl\u001b[0;34m(self, *args, **kwargs)\u001b[0m\n\u001b[1;32m   1551\u001b[0m             \u001b[0;32mreturn\u001b[0m \u001b[0mself\u001b[0m\u001b[0;34m.\u001b[0m\u001b[0m_compiled_call_impl\u001b[0m\u001b[0;34m(\u001b[0m\u001b[0;34m*\u001b[0m\u001b[0margs\u001b[0m\u001b[0;34m,\u001b[0m \u001b[0;34m**\u001b[0m\u001b[0mkwargs\u001b[0m\u001b[0;34m)\u001b[0m  \u001b[0;31m# type: ignore[misc]\u001b[0m\u001b[0;34m\u001b[0m\u001b[0;34m\u001b[0m\u001b[0m\n\u001b[1;32m   1552\u001b[0m         \u001b[0;32melse\u001b[0m\u001b[0;34m:\u001b[0m\u001b[0;34m\u001b[0m\u001b[0;34m\u001b[0m\u001b[0m\n\u001b[0;32m-> 1553\u001b[0;31m             \u001b[0;32mreturn\u001b[0m \u001b[0mself\u001b[0m\u001b[0;34m.\u001b[0m\u001b[0m_call_impl\u001b[0m\u001b[0;34m(\u001b[0m\u001b[0;34m*\u001b[0m\u001b[0margs\u001b[0m\u001b[0;34m,\u001b[0m \u001b[0;34m**\u001b[0m\u001b[0mkwargs\u001b[0m\u001b[0;34m)\u001b[0m\u001b[0;34m\u001b[0m\u001b[0;34m\u001b[0m\u001b[0m\n\u001b[0m\u001b[1;32m   1554\u001b[0m \u001b[0;34m\u001b[0m\u001b[0m\n\u001b[1;32m   1555\u001b[0m     \u001b[0;32mdef\u001b[0m \u001b[0m_call_impl\u001b[0m\u001b[0;34m(\u001b[0m\u001b[0mself\u001b[0m\u001b[0;34m,\u001b[0m \u001b[0;34m*\u001b[0m\u001b[0margs\u001b[0m\u001b[0;34m,\u001b[0m \u001b[0;34m**\u001b[0m\u001b[0mkwargs\u001b[0m\u001b[0;34m)\u001b[0m\u001b[0;34m:\u001b[0m\u001b[0;34m\u001b[0m\u001b[0;34m\u001b[0m\u001b[0m\n",
      "\u001b[0;32m/usr/local/lib/python3.10/dist-packages/torch/nn/modules/module.py\u001b[0m in \u001b[0;36m_call_impl\u001b[0;34m(self, *args, **kwargs)\u001b[0m\n\u001b[1;32m   1560\u001b[0m                 \u001b[0;32mor\u001b[0m \u001b[0m_global_backward_pre_hooks\u001b[0m \u001b[0;32mor\u001b[0m \u001b[0m_global_backward_hooks\u001b[0m\u001b[0;34m\u001b[0m\u001b[0;34m\u001b[0m\u001b[0m\n\u001b[1;32m   1561\u001b[0m                 or _global_forward_hooks or _global_forward_pre_hooks):\n\u001b[0;32m-> 1562\u001b[0;31m             \u001b[0;32mreturn\u001b[0m \u001b[0mforward_call\u001b[0m\u001b[0;34m(\u001b[0m\u001b[0;34m*\u001b[0m\u001b[0margs\u001b[0m\u001b[0;34m,\u001b[0m \u001b[0;34m**\u001b[0m\u001b[0mkwargs\u001b[0m\u001b[0;34m)\u001b[0m\u001b[0;34m\u001b[0m\u001b[0;34m\u001b[0m\u001b[0m\n\u001b[0m\u001b[1;32m   1563\u001b[0m \u001b[0;34m\u001b[0m\u001b[0m\n\u001b[1;32m   1564\u001b[0m         \u001b[0;32mtry\u001b[0m\u001b[0;34m:\u001b[0m\u001b[0;34m\u001b[0m\u001b[0;34m\u001b[0m\u001b[0m\n",
      "\u001b[0;32m/usr/local/lib/python3.10/dist-packages/transformers/models/distilbert/modeling_distilbert.py\u001b[0m in \u001b[0;36mforward\u001b[0;34m(self, x, attn_mask, head_mask, output_attentions)\u001b[0m\n\u001b[1;32m    388\u001b[0m         \"\"\"\n\u001b[1;32m    389\u001b[0m         \u001b[0;31m# Self-Attention\u001b[0m\u001b[0;34m\u001b[0m\u001b[0;34m\u001b[0m\u001b[0m\n\u001b[0;32m--> 390\u001b[0;31m         sa_output = self.attention(\n\u001b[0m\u001b[1;32m    391\u001b[0m             \u001b[0mquery\u001b[0m\u001b[0;34m=\u001b[0m\u001b[0mx\u001b[0m\u001b[0;34m,\u001b[0m\u001b[0;34m\u001b[0m\u001b[0;34m\u001b[0m\u001b[0m\n\u001b[1;32m    392\u001b[0m             \u001b[0mkey\u001b[0m\u001b[0;34m=\u001b[0m\u001b[0mx\u001b[0m\u001b[0;34m,\u001b[0m\u001b[0;34m\u001b[0m\u001b[0;34m\u001b[0m\u001b[0m\n",
      "\u001b[0;32m/usr/local/lib/python3.10/dist-packages/torch/nn/modules/module.py\u001b[0m in \u001b[0;36m_wrapped_call_impl\u001b[0;34m(self, *args, **kwargs)\u001b[0m\n\u001b[1;32m   1551\u001b[0m             \u001b[0;32mreturn\u001b[0m \u001b[0mself\u001b[0m\u001b[0;34m.\u001b[0m\u001b[0m_compiled_call_impl\u001b[0m\u001b[0;34m(\u001b[0m\u001b[0;34m*\u001b[0m\u001b[0margs\u001b[0m\u001b[0;34m,\u001b[0m \u001b[0;34m**\u001b[0m\u001b[0mkwargs\u001b[0m\u001b[0;34m)\u001b[0m  \u001b[0;31m# type: ignore[misc]\u001b[0m\u001b[0;34m\u001b[0m\u001b[0;34m\u001b[0m\u001b[0m\n\u001b[1;32m   1552\u001b[0m         \u001b[0;32melse\u001b[0m\u001b[0;34m:\u001b[0m\u001b[0;34m\u001b[0m\u001b[0;34m\u001b[0m\u001b[0m\n\u001b[0;32m-> 1553\u001b[0;31m             \u001b[0;32mreturn\u001b[0m \u001b[0mself\u001b[0m\u001b[0;34m.\u001b[0m\u001b[0m_call_impl\u001b[0m\u001b[0;34m(\u001b[0m\u001b[0;34m*\u001b[0m\u001b[0margs\u001b[0m\u001b[0;34m,\u001b[0m \u001b[0;34m**\u001b[0m\u001b[0mkwargs\u001b[0m\u001b[0;34m)\u001b[0m\u001b[0;34m\u001b[0m\u001b[0;34m\u001b[0m\u001b[0m\n\u001b[0m\u001b[1;32m   1554\u001b[0m \u001b[0;34m\u001b[0m\u001b[0m\n\u001b[1;32m   1555\u001b[0m     \u001b[0;32mdef\u001b[0m \u001b[0m_call_impl\u001b[0m\u001b[0;34m(\u001b[0m\u001b[0mself\u001b[0m\u001b[0;34m,\u001b[0m \u001b[0;34m*\u001b[0m\u001b[0margs\u001b[0m\u001b[0;34m,\u001b[0m \u001b[0;34m**\u001b[0m\u001b[0mkwargs\u001b[0m\u001b[0;34m)\u001b[0m\u001b[0;34m:\u001b[0m\u001b[0;34m\u001b[0m\u001b[0;34m\u001b[0m\u001b[0m\n",
      "\u001b[0;32m/usr/local/lib/python3.10/dist-packages/torch/nn/modules/module.py\u001b[0m in \u001b[0;36m_call_impl\u001b[0;34m(self, *args, **kwargs)\u001b[0m\n\u001b[1;32m   1560\u001b[0m                 \u001b[0;32mor\u001b[0m \u001b[0m_global_backward_pre_hooks\u001b[0m \u001b[0;32mor\u001b[0m \u001b[0m_global_backward_hooks\u001b[0m\u001b[0;34m\u001b[0m\u001b[0;34m\u001b[0m\u001b[0m\n\u001b[1;32m   1561\u001b[0m                 or _global_forward_hooks or _global_forward_pre_hooks):\n\u001b[0;32m-> 1562\u001b[0;31m             \u001b[0;32mreturn\u001b[0m \u001b[0mforward_call\u001b[0m\u001b[0;34m(\u001b[0m\u001b[0;34m*\u001b[0m\u001b[0margs\u001b[0m\u001b[0;34m,\u001b[0m \u001b[0;34m**\u001b[0m\u001b[0mkwargs\u001b[0m\u001b[0;34m)\u001b[0m\u001b[0;34m\u001b[0m\u001b[0;34m\u001b[0m\u001b[0m\n\u001b[0m\u001b[1;32m   1563\u001b[0m \u001b[0;34m\u001b[0m\u001b[0m\n\u001b[1;32m   1564\u001b[0m         \u001b[0;32mtry\u001b[0m\u001b[0;34m:\u001b[0m\u001b[0;34m\u001b[0m\u001b[0;34m\u001b[0m\u001b[0m\n",
      "\u001b[0;32m/usr/local/lib/python3.10/dist-packages/transformers/models/distilbert/modeling_distilbert.py\u001b[0m in \u001b[0;36mforward\u001b[0;34m(self, query, key, value, mask, head_mask, output_attentions)\u001b[0m\n\u001b[1;32m    209\u001b[0m         \u001b[0mv\u001b[0m \u001b[0;34m=\u001b[0m \u001b[0mshape\u001b[0m\u001b[0;34m(\u001b[0m\u001b[0mself\u001b[0m\u001b[0;34m.\u001b[0m\u001b[0mv_lin\u001b[0m\u001b[0;34m(\u001b[0m\u001b[0mvalue\u001b[0m\u001b[0;34m)\u001b[0m\u001b[0;34m)\u001b[0m  \u001b[0;31m# (bs, n_heads, k_length, dim_per_head)\u001b[0m\u001b[0;34m\u001b[0m\u001b[0;34m\u001b[0m\u001b[0m\n\u001b[1;32m    210\u001b[0m \u001b[0;34m\u001b[0m\u001b[0m\n\u001b[0;32m--> 211\u001b[0;31m         \u001b[0mq\u001b[0m \u001b[0;34m=\u001b[0m \u001b[0mq\u001b[0m \u001b[0;34m/\u001b[0m \u001b[0mmath\u001b[0m\u001b[0;34m.\u001b[0m\u001b[0msqrt\u001b[0m\u001b[0;34m(\u001b[0m\u001b[0mdim_per_head\u001b[0m\u001b[0;34m)\u001b[0m  \u001b[0;31m# (bs, n_heads, q_length, dim_per_head)\u001b[0m\u001b[0;34m\u001b[0m\u001b[0;34m\u001b[0m\u001b[0m\n\u001b[0m\u001b[1;32m    212\u001b[0m         \u001b[0mscores\u001b[0m \u001b[0;34m=\u001b[0m \u001b[0mtorch\u001b[0m\u001b[0;34m.\u001b[0m\u001b[0mmatmul\u001b[0m\u001b[0;34m(\u001b[0m\u001b[0mq\u001b[0m\u001b[0;34m,\u001b[0m \u001b[0mk\u001b[0m\u001b[0;34m.\u001b[0m\u001b[0mtranspose\u001b[0m\u001b[0;34m(\u001b[0m\u001b[0;36m2\u001b[0m\u001b[0;34m,\u001b[0m \u001b[0;36m3\u001b[0m\u001b[0;34m)\u001b[0m\u001b[0;34m)\u001b[0m  \u001b[0;31m# (bs, n_heads, q_length, k_length)\u001b[0m\u001b[0;34m\u001b[0m\u001b[0;34m\u001b[0m\u001b[0m\n\u001b[1;32m    213\u001b[0m         \u001b[0mmask\u001b[0m \u001b[0;34m=\u001b[0m \u001b[0;34m(\u001b[0m\u001b[0mmask\u001b[0m \u001b[0;34m==\u001b[0m \u001b[0;36m0\u001b[0m\u001b[0;34m)\u001b[0m\u001b[0;34m.\u001b[0m\u001b[0mview\u001b[0m\u001b[0;34m(\u001b[0m\u001b[0mmask_reshp\u001b[0m\u001b[0;34m)\u001b[0m\u001b[0;34m.\u001b[0m\u001b[0mexpand_as\u001b[0m\u001b[0;34m(\u001b[0m\u001b[0mscores\u001b[0m\u001b[0;34m)\u001b[0m  \u001b[0;31m# (bs, n_heads, q_length, k_length)\u001b[0m\u001b[0;34m\u001b[0m\u001b[0;34m\u001b[0m\u001b[0m\n",
      "\u001b[0;31mOutOfMemoryError\u001b[0m: CUDA out of memory. Tried to allocate 2.56 GiB. GPU 0 has a total capacity of 14.74 GiB of which 696.12 MiB is free. Process 2944 has 14.06 GiB memory in use. Of the allocated memory 11.79 GiB is allocated by PyTorch, and 2.13 GiB is reserved by PyTorch but unallocated. If reserved but unallocated memory is large try setting PYTORCH_CUDA_ALLOC_CONF=expandable_segments:True to avoid fragmentation.  See documentation for Memory Management  (https://pytorch.org/docs/stable/notes/cuda.html#environment-variables)"
     ]
    }
   ],
   "source": [
    "import torch\n",
    "from transformers import DistilBertForSequenceClassification, DistilBertTokenizer\n",
    "\n",
    "# Giả sử bạn đã tải mô hình và tokenizer\n",
    "model = DistilBertForSequenceClassification.from_pretrained(\"/kaggle/working/distilbert_model\")\n",
    "tokenizer = DistilBertTokenizer.from_pretrained(\"/kaggle/working/distilbert_model\")\n",
    "\n",
    "# Dữ liệu test (df_test) không có nhãn\n",
    "texts = df_test['deemoji_tweet'].tolist()\n",
    "\n",
    "# Tokenize dữ liệu\n",
    "encoded_inputs = tokenizer(\n",
    "    texts,\n",
    "    padding=True,\n",
    "    truncation=True,\n",
    "    max_length=128,  # Bạn có thể điều chỉnh max_length nếu cần\n",
    "    return_tensors=\"pt\"\n",
    ")\n",
    "\n",
    "input_ids = encoded_inputs['input_ids']\n",
    "attention_mask = encoded_inputs['attention_mask']\n",
    "\n",
    "# Chuyển mô hình và dữ liệu sang GPU nếu có (nếu không sẽ sử dụng CPU)\n",
    "device = torch.device('cuda' if torch.cuda.is_available() else 'cpu')\n",
    "model.to(device)\n",
    "\n",
    "input_ids = input_ids.to(device)\n",
    "attention_mask = attention_mask.to(device)\n",
    "\n",
    "# Dự đoán nhãn\n",
    "model.eval()  # Chế độ đánh giá\n",
    "with torch.no_grad():  # Không tính toán gradient khi chỉ dự đoán\n",
    "    outputs = model(input_ids=input_ids, attention_mask=attention_mask)\n",
    "    logits = outputs.logits\n",
    "    predictions = torch.argmax(logits, dim=-1)\n",
    "\n",
    "# Chuyển các dự đoán thành nhãn\n",
    "predicted_labels = predictions.cpu().numpy()\n",
    "\n",
    "# Thêm nhãn dự đoán vào DataFrame\n",
    "df_test['predicted_labels'] = predicted_labels\n",
    "\n",
    "# In kết quả\n",
    "print(df_test[['deemoji_tweet', 'predicted_labels']])\n",
    "\n"
   ]
  },
  {
   "cell_type": "code",
   "execution_count": null,
   "metadata": {
    "execution": {
     "iopub.status.busy": "2025-01-02T07:24:16.570953Z",
     "iopub.status.idle": "2025-01-02T07:24:16.571407Z",
     "shell.execute_reply": "2025-01-02T07:24:16.571169Z"
    },
    "trusted": true
   },
   "outputs": [],
   "source": [
    "tweets = [\n",
    "    \"This person is so stupid, how do they even exist?!\",  # Hate speech\n",
    "    \"All those people are worthless. Can't believe they have the nerve to speak up!\",  # Hate speech\n",
    "    \"Anyone who thinks like that is a disgrace to society\",  # Hate speech\n",
    "   ]"
   ]
  },
  {
   "cell_type": "code",
   "execution_count": null,
   "metadata": {
    "execution": {
     "iopub.status.busy": "2025-01-02T07:24:16.572285Z",
     "iopub.status.idle": "2025-01-02T07:24:16.572701Z",
     "shell.execute_reply": "2025-01-02T07:24:16.572522Z"
    },
    "trusted": true
   },
   "outputs": [],
   "source": [
    "new_tweets = pd.DataFrame(tweets, columns =[\"tweet\"])"
   ]
  },
  {
   "cell_type": "code",
   "execution_count": null,
   "metadata": {
    "execution": {
     "iopub.status.busy": "2025-01-02T07:24:16.573640Z",
     "iopub.status.idle": "2025-01-02T07:24:16.574065Z",
     "shell.execute_reply": "2025-01-02T07:24:16.573883Z"
    },
    "trusted": true
   },
   "outputs": [],
   "source": [
    "new_tweets[\"deemoji_tweet\"] =  new_tweets[\"tweet\"].apply(emoji_text_trans)"
   ]
  },
  {
   "cell_type": "code",
   "execution_count": 49,
   "metadata": {
    "execution": {
     "iopub.execute_input": "2025-01-02T08:19:43.629729Z",
     "iopub.status.busy": "2025-01-02T08:19:43.629395Z",
     "iopub.status.idle": "2025-01-02T08:19:43.634847Z",
     "shell.execute_reply": "2025-01-02T08:19:43.633998Z",
     "shell.execute_reply.started": "2025-01-02T08:19:43.629703Z"
    },
    "trusted": true
   },
   "outputs": [
    {
     "data": {
      "text/html": [
       "<a href='distilbert_model.zip.zip' target='_blank'>distilbert_model.zip.zip</a><br>"
      ],
      "text/plain": [
       "/kaggle/working/distilbert_model.zip.zip"
      ]
     },
     "execution_count": 49,
     "metadata": {},
     "output_type": "execute_result"
    }
   ],
   "source": [
    "from IPython.display import FileLink\n",
    "FileLink(r'distilbert_model.zip.zip')"
   ]
  },
  {
   "cell_type": "code",
   "execution_count": null,
   "metadata": {
    "trusted": true
   },
   "outputs": [],
   "source": []
  }
 ],
 "metadata": {
  "kaggle": {
   "accelerator": "nvidiaTeslaT4",
   "dataSources": [
    {
     "datasetId": 38891,
     "sourceId": 59255,
     "sourceType": "datasetVersion"
    }
   ],
   "isGpuEnabled": true,
   "isInternetEnabled": true,
   "language": "python",
   "sourceType": "notebook"
  },
  "kernelspec": {
   "display_name": "Python 3",
   "language": "python",
   "name": "python3"
  },
  "language_info": {
   "codemirror_mode": {
    "name": "ipython",
    "version": 3
   },
   "file_extension": ".py",
   "mimetype": "text/x-python",
   "name": "python",
   "nbconvert_exporter": "python",
   "pygments_lexer": "ipython3",
   "version": "3.10.12"
  }
 },
 "nbformat": 4,
 "nbformat_minor": 4
}
